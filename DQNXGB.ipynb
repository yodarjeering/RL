{
 "cells": [
  {
   "cell_type": "markdown",
   "id": "a1bbedb4-399e-4c95-a9bd-f8653999ad1a",
   "metadata": {},
   "source": [
    "# import Library"
   ]
  },
  {
   "cell_type": "code",
   "execution_count": 1,
   "id": "fe8e0446-8dd4-4933-91fc-c0178688bb65",
   "metadata": {
    "tags": []
   },
   "outputs": [
    {
     "name": "stdout",
     "output_type": "stream",
     "text": [
      "INFO:tensorflow:Enabling eager execution\n",
      "INFO:tensorflow:Enabling v2 tensorshape\n",
      "INFO:tensorflow:Enabling resource variables\n",
      "INFO:tensorflow:Enabling tensor equality\n",
      "INFO:tensorflow:Enabling control flow v2\n"
     ]
    }
   ],
   "source": [
    "import numpy as np\n",
    "import math\n",
    "import glob\n",
    "import matplotlib.pyplot as plt\n",
    "from enum import Enum\n",
    "import pandas as pd\n",
    "import time\n",
    "from collections import defaultdict\n",
    "from collections import namedtuple\n",
    "from sklearn.neural_network import MLPRegressor\n",
    "from sklearn.preprocessing import StandardScaler\n",
    "from sklearn.pipeline import Pipeline\n",
    "import os\n",
    "import io\n",
    "import re\n",
    "from collections import namedtuple\n",
    "from collections import deque\n",
    "import tensorflow as tf\n",
    "from tensorflow.python import keras as K\n",
    "from PIL import Image\n",
    "import matplotlib.pyplot as plt\n",
    "import random\n",
    "# from mylibrary.fnframework import FNAgent,Environment,Action,Trainer\n",
    "from mylibrary.plottrade import PlotTrade\n",
    "from mylibrary.maketraindata import MakeTrainData\n",
    "import xgboost as xgb\n",
    "from sklearn.metrics import accuracy_score  \n",
    "from selenium import webdriver\n",
    "from selenium.webdriver.common.keys import Keys\n",
    "from selenium.webdriver.common.action_chains import ActionChains\n",
    "from tensorflow.python.keras.models import load_model\n",
    "import statsmodels.graphics.api as smg\n",
    "from statsmodels.graphics.tsaplots import plot_acf\n",
    "from scipy import stats\n",
    "from scipy.stats import f\n",
    "from imblearn.under_sampling import RandomUnderSampler\n",
    "from sklearn.metrics import classification_report, accuracy_score\n",
    "from sklearn.metrics import average_precision_score\n",
    "from sklearn.metrics import classification_report, accuracy_score,roc_curve, roc_auc_score\n",
    "import pickle\n",
    "import datetime\n",
    "from sklearn import preprocessing\n",
    "from sklearn.metrics import r2_score\n",
    "import copy\n",
    "import optuna\n",
    "from keras.callbacks import EarlyStopping\n",
    "from sklearn.model_selection import train_test_split"
   ]
  },
  {
   "cell_type": "markdown",
   "id": "cd332098-8954-4a15-9e8f-0d379ed0e2a7",
   "metadata": {},
   "source": [
    "# path ubu"
   ]
  },
  {
   "cell_type": "code",
   "execution_count": 2,
   "id": "ef960622-cf70-40ed-b893-aaaed713ea7a",
   "metadata": {},
   "outputs": [],
   "source": [
    "path_daw = '/home/hipro/デスクトップ/StockPriceData/Stock_index/DAW_10years.csv'\n",
    "path_tpx = '/home/hipro/デスクトップ/StockPriceData/Stock_index/TOPIX_10years.csv'\n"
   ]
  },
  {
   "cell_type": "markdown",
   "id": "67de8fd4-a3da-45b9-814a-69a49e467c3b",
   "metadata": {},
   "source": [
    "# path mac"
   ]
  },
  {
   "cell_type": "code",
   "execution_count": 2,
   "id": "867f1471-2e5a-4be2-9b6b-40e2d4291cd2",
   "metadata": {
    "tags": []
   },
   "outputs": [],
   "source": [
    "path_tpx = '/Users/rince/Desktop/StockPriceData/Stock_index/TOPIX_10years.csv'\n",
    "path_225 = '/Users/rince/Desktop/StockPriceData/Stock_index/NK225_10years.csv'\n",
    "path_daw = '/Users/rince/Desktop/StockPriceData/Stock_index/DAW_10years.csv'\n",
    "path_bear = '/Users/rince/Desktop/StockPriceData/Stock_index/R225BEAR_10years.csv'"
   ]
  },
  {
   "cell_type": "markdown",
   "id": "d50b5368-9470-4a97-ad5d-51fac011ff8e",
   "metadata": {},
   "source": [
    "# path win"
   ]
  },
  {
   "cell_type": "code",
   "execution_count": 9,
   "id": "bcd896c9-6f4d-4b99-baa8-40e5551657bb",
   "metadata": {},
   "outputs": [],
   "source": [
    "path_tpx = '/Users/Owner/Desktop/StockPriceData/Stock_index/TOPIX_10years.csv'\n",
    "path_225 = '/Users/Owner/Desktop/StockPriceData/Stock_index/NK225_10years.csv'\n",
    "path_daw = '/Users/Owner/Desktop/StockPriceData/Stock_index/DAW_10years.csv'\n",
    "path_bear = '/Users/Owner/Desktop/StockPriceData/Stock_index/R225BEAR_10years.csv'"
   ]
  },
  {
   "cell_type": "markdown",
   "id": "2dc4b23c-a53b-497e-a66c-b35dd9f47f73",
   "metadata": {},
   "source": [
    "# funcs"
   ]
  },
  {
   "cell_type": "code",
   "execution_count": 3,
   "id": "8c8d827e-205f-4645-814c-417353aee53e",
   "metadata": {
    "tags": []
   },
   "outputs": [],
   "source": [
    "def xgb_pred(x_train, y_train, x_test, y_test):\n",
    "#     param_dist = {'objective':'binary:logistic', \n",
    "#                   'eta': 0.09596830907961507, \n",
    "#                   'max_depth': 3,\n",
    "#                   'lambda': 0.7357580506094586,\n",
    "#                   'n_estimators': 3,\n",
    "#                   'reg_alpha': 0.6480353642599526, \n",
    "#                   'reg_lambda': 0.48699139703134453,\n",
    "#                   'importance_type': 'total_cover',\n",
    "#                   'use_label_encoder':False}\n",
    "    param_dist = {\n",
    "                'objective':'binary:logistic', \n",
    "                'n_estimators':16,\n",
    "                'use_label_encoder':False,\n",
    "                 'max_depth':4\n",
    "            }\n",
    "    \n",
    "    \n",
    "    param_def = {'objective':'binary:logistic','use_label_encoder':False}\n",
    "    xgb_model = xgb.XGBClassifier(**param_dist)\n",
    "    hr_pred = xgb_model.fit(x_train.astype(float), np.array(y_train), eval_metric='logloss').predict(x_test.astype(float))\n",
    "    print(\"---------------------\")\n",
    "    y_proba_train = xgb_model.predict_proba(x_train)[:,1]\n",
    "    y_proba = xgb_model.predict_proba(x_test)[:,1]\n",
    "    print('AUC train:',roc_auc_score(y_train,y_proba_train))    \n",
    "    print('AUC test :',roc_auc_score(y_test,y_proba))\n",
    "    print(classification_report(np.array(y_test), hr_pred))\n",
    "    xgb.plot_importance(xgb_model) \n",
    "    return xgb_model\n",
    "\n",
    "def for_xgb_data(path_tpx, path_daw):\n",
    "    df_tpx = DataFramePreProcessing(path_tpx).load_df()\n",
    "    df_daw = DataFramePreProcessing(path_daw,is_daw=True).load_df()\n",
    "    daw_p = df_daw.pct_change()\n",
    "    df_con = pd.concat([daw_p,df_tpx],axis = 1,join='inner').astype(float)\n",
    "    df_tmp = df_con.drop(df_con[ df_con['volume']==0].index)\n",
    "    return df_tmp\n",
    "\n",
    "def make_x_train(path_tpx, path_daw):\n",
    "    df_tpx  = DataFramePreProcessing(path_tpx).load_df()\n",
    "    df_daw = DataFramePreProcessing(path_daw, is_daw=True).load_df()\n",
    "    daw_p = df_daw['dclose'].pct_change()\n",
    "    tpx_p = df_tpx['close'].pct_change()\n",
    "\n",
    "    df_con = pd.concat([daw_p,tpx_p],axis = 1,join='inner').astype(float)\n",
    "    df_tmp = df_con.rename(columns={'close': 'pclose'})\n",
    "    df_tmp = pd.concat([df_tmp,df_tpx['close']],axis = 1,join='inner').astype(float)\n",
    "\n",
    "    x_train = df_tmp.loc[:,['dclose','pclose']].iloc[1:]\n",
    "    price_chart = df_tmp['close'].iloc[1:]\n",
    "    return x_train, price_chart\n",
    "\n",
    "def make_x_train2(state_, chart_, path_tpx, path_daw):\n",
    "    df_state = pd.DataFrame(state_)\n",
    "    df_state['day'] = chart_.index\n",
    "    df_state.reset_index(inplace=True)\n",
    "    df_state.set_index('day',inplace=True)\n",
    "    df_state.drop('index',axis=1,inplace=True)\n",
    "    \n",
    "    x_train, _ = make_x_train(path_tpx, path_daw)\n",
    "    x_train = pd.concat([x_train,df_state],axis = 1,join='inner').astype(float)\n",
    "    \n",
    "    return x_train, chart_\n",
    "\n",
    "def predict_tomorrow(lq,folder_name):\n",
    "    path_ = '/Users/rince/Desktop/StockPriceData/%s/*.csv' % folder_name\n",
    "    file = glob.glob(path_)\n",
    "    path_tpx = sorted(file)[-1]\n",
    "    path_ = '/Users/rince/Desktop/StockPriceData/DAW/*.csv'\n",
    "    file = glob.glob(path_)\n",
    "    path_daw = sorted(file)[-1]\n",
    "    lq.predict_tomorrow(path_tpx,path_daw)\n",
    "    \n",
    "def plot(g,label=''):\n",
    "#     type(g) = pd.DataFrame\n",
    "    plt.subplots(figsize=(10, 6))\n",
    "    plt.fill_between(g.index,y1 = g['ma'] - g['std'],y2=g['ma']+g['std'],alpha=0.3)\n",
    "    plt.plot(g.index,g['ma'],label=label)\n",
    "    plt.xlabel('episode')\n",
    "    plt.ylabel('reward')\n",
    "    plt.grid(True)\n",
    "    \n",
    "def make_plot_data(reward_log, ma=5):\n",
    "#     type(reward_log)==list\n",
    "\n",
    "    length = len(reward_log)\n",
    "    reward_log = np.array(reward_log)\n",
    "    reward_dict = {}\n",
    "    if ma%2==0:\n",
    "        print(\"ma must be odd number.\")\n",
    "        return \n",
    "    \n",
    "    \n",
    "    sride = ma//2\n",
    "    try:\n",
    "        for i in range(sride,length-sride):\n",
    "            reward_dict[i] = {'reward':reward_log[i],'ma':reward_log[i-sride:i+sride+1].mean(),\n",
    "                             'std':reward_log[i-sride:i+sride+1].std()}\n",
    "    except:\n",
    "        print(\"Error.\")\n",
    "    \n",
    "    return pd.DataFrame(reward_dict).T\n",
    "     \n",
    "def easy_plot(df,xlabel='episode',ylabel='reward'):\n",
    "    plt.subplots(figsize=(10, 6))\n",
    "    plt.xlabel(xlabel)\n",
    "    plt.ylabel(ylabel)\n",
    "    plt.grid(True)\n",
    "    plt.plot(df)\n",
    "    plt.show()\n",
    "    \n",
    "def make_df_con(path_tpx,path_daw):\n",
    "    df_tpx = DataFramePreProcessing(path_tpx).load_df()\n",
    "    df_daw = DataFramePreProcessing(path_daw,is_daw=True).load_df()\n",
    "    daw_p = df_daw.pct_change()\n",
    "    df_con = pd.concat([daw_p,df_tpx],axis = 1,join='inner').astype(float)\n",
    "    df_tmp = df_con.drop(df_con[ df_con['volume']==0].index)\n",
    "    return df_tmp\n",
    "\n",
    "def grid_search(x_train,y_train,x_test,y_test):\n",
    "    trains = xgb.DMatrix(x_train.astype(float), label=y_train)\n",
    "    tests = xgb.DMatrix(x_test.astype(float), label=y_test)\n",
    "\n",
    "    base_params = {\n",
    "        'booster': 'gbtree',\n",
    "        'objective':'binary:logistic',\n",
    "        'eval_metric': 'rmse',\n",
    "        'random_state':100,\n",
    "        'use_label_encoder':False\n",
    "    }\n",
    "\n",
    "    watchlist = [(trains, 'train'), (tests, 'eval')]\n",
    "    tmp_params = copy.deepcopy(base_params)\n",
    "    \n",
    "#     インナー関数\n",
    "    def optimizer(trial):\n",
    "        eta = trial.suggest_uniform('eta', 0.01, 0.3)\n",
    "        max_depth = trial.suggest_int('max_depth', 3, 15)\n",
    "        __lambda = trial.suggest_uniform('lambda', 0.7, 2)\n",
    "        n_estimators = trial.suggest_int('n_estimators', 3, 20)\n",
    "        learning_rate = trial.suggest_uniform('lambda', 0.01, 1)\n",
    "        reg_alpha = trial.suggest_uniform('reg_alpha', 0.01, 1)\n",
    "        reg_lambda = trial.suggest_uniform('reg_lambda', 0.01, 1)\n",
    "        importance_type = trial.suggest_categorical('importance_type',\n",
    "                                                    ['gain', 'weight', 'cover','total_gain','total_cover'])\n",
    "\n",
    "        tmp_params['eta'] = eta\n",
    "        tmp_params['max_depth'] = max_depth\n",
    "        tmp_params['lambda'] = __lambda\n",
    "        tmp_params['n_estimators'] = n_estimators\n",
    "        tmp_params['learning_rate'] = learning_rate\n",
    "        tmp_params['reg_alpha'] = reg_alpha\n",
    "        tmp_params['reg_lambda'] = reg_lambda\n",
    "        tmp_params['importance_type'] = importance_type\n",
    "        model = xgb.train(tmp_params, trains, num_boost_round=50)\n",
    "        predicts = model.predict(tests)\n",
    "        r2 = r2_score(y_test, predicts)\n",
    "        print(f'#{trial.number}, Result: {r2}, {trial.params}')\n",
    "        return r2\n",
    "    \n",
    "    study = optuna.create_study(direction='maximize')\n",
    "    study.optimize(optimizer, n_trials=500)\n",
    "    print(study.best_params)\n",
    "    print(study.best_value)\n",
    "\n",
    "def calc_sharp_ratio(pr_log, Rb=0):\n",
    "    # Rb = 0 => 無リスク資産の利回り, 普通預金は10^(-5)\n",
    "    if pr_log.iloc[0]!=0:\n",
    "        delta = pr_log.iloc[0]\n",
    "        pr_log = pr_log.map(lambda x: x - delta)\n",
    "    \n",
    "#    D : D = Rf - Rb\n",
    "    D = pr_log.map(lambda x: x - Rb).values\n",
    "    mean_D = np.mean(D)\n",
    "    T_ = len(D)\n",
    "    sigma_D = np.std(D)*np.sqrt(T_/(T_-1))\n",
    "    \n",
    "    SharpRatio = mean_D/sigma_D\n",
    "    print(SharpRatio)\n",
    "    return SharpRatio\n",
    "    "
   ]
  },
  {
   "cell_type": "markdown",
   "id": "f1a05fa4-2a84-4a69-97f5-30e4bd779b84",
   "metadata": {},
   "source": [
    "# classes"
   ]
  },
  {
   "cell_type": "code",
   "execution_count": 33,
   "id": "de4afc4e-8a22-46aa-babb-4575d6a08317",
   "metadata": {
    "tags": []
   },
   "outputs": [],
   "source": [
    "Experience = namedtuple(\"Experience\", [\"s\",\"a\",\"r\",\"n_s\",\"n_a\",\"d\"])\n",
    "\n",
    "class DataFramePreProcessing():\n",
    "\n",
    "    \n",
    "    def __init__(self, path_, is_daw=False):\n",
    "        self.path_ = path_\n",
    "        self.is_daw = is_daw\n",
    "\n",
    "        \n",
    "    def load_df(self):\n",
    "        if self.is_daw:\n",
    "            d='d'\n",
    "        else:\n",
    "            d=''\n",
    "        FILE = glob.glob(self.path_)\n",
    "        df = pd.read_csv(FILE[0])\n",
    "        df = df.rename(columns={df.columns[0]:'nan',df.columns[1]:'nan',df.columns[2]:'nan',\\\n",
    "                                    df.columns[3]:'day',df.columns[4]:'nan',df.columns[5]:d+'open',\\\n",
    "                                    df.columns[6]:d+'high',df.columns[7]:d+'low',df.columns[8]:d+'close',\\\n",
    "                                       df.columns[9]:d+'volume',})\n",
    "        df = df.drop('nan',axis=1)\n",
    "        df = df.drop(df.index[0])\n",
    "        df['day'] = pd.to_datetime(df['day'],format='%Y/%m/%d')\n",
    "        df.set_index('day',inplace=True)\n",
    "\n",
    "        return df.astype(float)\n",
    "    \n",
    "class PlotTrade():\n",
    "    \n",
    "    \n",
    "    def __init__(self, df_chart,label=''):\n",
    "        self.df_chart = df_chart\n",
    "        plt.clf()\n",
    "        self.fig, self.ax = plt.subplots(figsize=(10, 6))\n",
    "        self.ax.plot(self.df_chart,label=label)\n",
    "        plt.legend()\n",
    "        \n",
    "    def add_span(self, start_time,end_time):\n",
    "        self.ax.axvspan(start_time, end_time, color=\"gray\", alpha=0.3)\n",
    "        \n",
    "    \n",
    "    def add_plot(self, df_plot,label=''):\n",
    "        self.ax.plot(df_plot,label=label)\n",
    "        plt.legend()\n",
    "        \n",
    "        \n",
    "    def show(self):\n",
    "        self.ax.grid()\n",
    "        labels = self.ax.get_xticklabels()\n",
    "        plt.setp(labels, rotation=15, fontsize=12)\n",
    "        plt.show()\n",
    "         \n",
    "class ValidatePlot(PlotTrade):\n",
    "    \n",
    "    \n",
    "    def __init__(self, df_chart, is_validate=False):\n",
    "        pass\n",
    "        \n",
    "    def add_span(self, start_time,end_time):\n",
    "        pass\n",
    "        \n",
    "    \n",
    "    def add_plot(self, df_plot):\n",
    "        pass\n",
    "        \n",
    "        \n",
    "    def show(self):\n",
    "        pass\n",
    "    \n",
    "class XGBSimulation():\n",
    "    \n",
    "    \n",
    "    def __init__(self, xgb_model, alpha=0.70):\n",
    "        self.xgb_model = xgb_model\n",
    "        self.alpha = alpha\n",
    "        \n",
    "    \n",
    "    def make_df_con(self, path_tpx,path_daw):\n",
    "        df_tpx = DataFramePreProcessing(path_tpx).load_df()\n",
    "        df_daw = DataFramePreProcessing(path_daw,is_daw=True).load_df()\n",
    "        daw_p = df_daw.pct_change()\n",
    "        df_con = pd.concat([daw_p,df_tpx],axis = 1,join='inner').astype(float)\n",
    "        df_tmp = df_con.drop(df_con[ df_con['volume']==0].index)\n",
    "        return df_tmp\n",
    "    \n",
    "    \n",
    "    def make_check_data(self,path_tpx,path_daw):\n",
    "        df_con = self.make_df_con(path_tpx,path_daw)\n",
    "        mk = MakeTrainData(df_con,test_rate=1.0)\n",
    "        x_check, y_check, x_dummy, y_dummy = mk.make_data()\n",
    "        self.ma_short = mk.ma_short\n",
    "        self.ma_long = mk.ma_long\n",
    "        return x_check, y_check\n",
    "    \n",
    "    \n",
    "    def eval_proba(self, x_test, y_test):\n",
    "        predict_proba = self.xgb_model.predict_proba(x_test.astype(float))\n",
    "        df = pd.DataFrame(columns = ['score','Up precision','Down precision','Up recall','Down recall','num'])\n",
    "        j=0\n",
    "        acc_dict = {'TU':0,'FU':0,'TD':0,'FD':0}\n",
    "        \n",
    "        \n",
    "        for i in range(len(predict_proba)):\n",
    "            row = predict_proba[i]\n",
    "            label = np.argmax(row)\n",
    "            proba = row[label]\n",
    "            if proba > self.alpha:\n",
    "                if y_test[i]==label:\n",
    "                    if label==0:\n",
    "                        acc_dict['TD'] += 1\n",
    "                    else:\n",
    "                        acc_dict['TU'] += 1\n",
    "                else:\n",
    "                    if label==0:\n",
    "                        acc_dict['FD'] += 1\n",
    "                    else:\n",
    "                        acc_dict['FU'] += 1\n",
    "\n",
    "\n",
    "        denom = 0\n",
    "        for idx, key in enumerate(acc_dict):\n",
    "            denom += acc_dict[key]\n",
    "        \n",
    "        try:\n",
    "            TU = acc_dict['TU']\n",
    "            FU = acc_dict['FU']\n",
    "            TD = acc_dict['TD']\n",
    "            FD = acc_dict['FD']\n",
    "            score = (TU + TD)/(denom)\n",
    "            prec_u = TU/(TU + FU)\n",
    "            prec_d = TD/(TD + FD)\n",
    "            recall_u = TU/(TU + FD)\n",
    "            recall_d = TD/(TD + FU)\n",
    "            col_list = [score,prec_u,prec_d,recall_u,recall_d,denom]\n",
    "            df.loc[j] = col_list\n",
    "            j+=1\n",
    "            return df\n",
    "        except:\n",
    "            print(\"division by zero\")\n",
    "            \n",
    "        \n",
    "    def return_df_con(self,path_tpx,path_daw):\n",
    "        df_con =  self.make_df_con(path_tpx,path_daw)\n",
    "        return df_con\n",
    "        \n",
    "        \n",
    "    def simulate(self, path_tpx, path_daw, is_validate=False,strategy='normal'):\n",
    "        x_check, y_check = self.make_check_data(path_tpx,path_daw)\n",
    "        length = len(x_check)\n",
    "        predict_proba = self.xgb_model.predict_proba(x_check.astype(float))\n",
    "        is_bought = False\n",
    "        index_buy = 0\n",
    "        index_sell = 0\n",
    "        prf = 0\n",
    "        trade_count = 0\n",
    "        df_con = self.return_df_con(path_tpx,path_daw).iloc[self.ma_long:-1]\n",
    "        pl = PlotTrade(df_con['close'])\n",
    "        prf_list = []\n",
    "        self.pr_log = pd.DataFrame()\n",
    "        self.pr_log.index = x_check.index\n",
    "        self.pr_log['reward'] = [0.0] * len(self.pr_log)\n",
    "        self.pr_log['eval_reward'] = self.pr_log['reward'].tolist()\n",
    "        eval_price = 0\n",
    "        total_eval_price = 0\n",
    "\n",
    "\n",
    "        for i in range(length-1):\n",
    "            \n",
    "            row = predict_proba[i]\n",
    "            label = np.argmax(row)\n",
    "            prob = row[label]\n",
    "            total_eval_price = prf\n",
    "            self.pr_log['reward'].loc[df_con.index[i]] = prf \n",
    "            self.pr_log['eval_reward'].loc[df_con.index[i]] = total_eval_price\n",
    "#             label==0 -> down\n",
    "#             label==1 -> up\n",
    "            \n",
    "            if strategy=='reverse':\n",
    "            \n",
    "                if not is_bought:\n",
    "    #                 下がって買い\n",
    "                    if label==0 and prob>self.alpha:\n",
    "                        index_buy = df_con['close'].loc[x_check.index[i+1]]\n",
    "                        start_time = x_check.index[i+1]\n",
    "                        is_bought = True\n",
    "                else:\n",
    "    #                 上がって売り\n",
    "                    if label==1 and prob>self.alpha:\n",
    "                        index_sell = df_con['close'].loc[x_check.index[i+1]]\n",
    "                        end_time = x_check.index[i+1]\n",
    "                        prf += index_sell - index_buy\n",
    "                        prf_list.append(index_sell - index_buy)\n",
    "                        is_bought = False\n",
    "                        trade_count += 1\n",
    "                        pl.add_span(start_time,end_time)\n",
    "                    else:\n",
    "                        eval_price = df_con['close'].iloc[i] - index_buy\n",
    "                        total_eval_price += eval_price\n",
    "                        self.pr_log['eval_reward'].loc[df_con.index[i]] = total_eval_price\n",
    "                        \n",
    "                        \n",
    "            elif strategy=='normal':\n",
    "                \n",
    "                if not is_bought:\n",
    "    #                 上がって買い\n",
    "                    if label==1 and prob>self.alpha:\n",
    "                        index_buy = df_con['close'].loc[x_check.index[i+1]]\n",
    "                        start_time = x_check.index[i+1]\n",
    "                        is_bought = True\n",
    "                else:\n",
    "    #                 下がって売り\n",
    "                    if label==0 and prob>self.alpha:\n",
    "                        index_sell = df_con['close'].loc[x_check.index[i+1]]\n",
    "                        end_time = x_check.index[i+1]\n",
    "                        prf += index_sell - index_buy\n",
    "                        prf_list.append(index_sell - index_buy)\n",
    "                        is_bought = False\n",
    "                        trade_count += 1\n",
    "                        pl.add_span(start_time,end_time)\n",
    "                    else:\n",
    "                        eval_price = df_con['close'].iloc[i] - index_buy\n",
    "                        total_eval_price += eval_price\n",
    "                        self.pr_log['eval_reward'].loc[df_con.index[i]] = total_eval_price\n",
    "            else:\n",
    "                print(\"No such strategy.\")\n",
    "                return \n",
    "                  \n",
    "        \n",
    "        if is_bought:\n",
    "            index_sell = df_con['close'].loc[x_check.index[-1]] \n",
    "            prf += index_sell - index_buy\n",
    "            prf_list.append(index_sell - index_buy)\n",
    "            end_time = x_check.index[-1]\n",
    "            trade_count+=1\n",
    "            pl.add_span(start_time,end_time)\n",
    "\n",
    "        \n",
    "        self.pr_log['reward'].loc[df_con.index[-1]] = prf \n",
    "        self.pr_log['eval_reward'].loc[df_con.index[-1]] = total_eval_price\n",
    "        prf_array = np.array(prf_list)\n",
    "        \n",
    "        \n",
    "        try:\n",
    "            if not is_validate:\n",
    "                print(\"Total profit :{}\".format(prf))\n",
    "                print(\"Trade count  :{}\".format(trade_count))\n",
    "                print(\"Max profit   :{}\".format(prf_array.max()))\n",
    "                print(\"Min profit   :{}\".format(prf_array.min()))\n",
    "                print(\"Mean profit  :{}\".format(prf_array.mean()))\n",
    "                df = self.eval_proba(x_check,y_check)\n",
    "                print(df)\n",
    "                print(\"\")\n",
    "                pl.show()\n",
    "        except:\n",
    "            print(\"no trade\")\n",
    "                    \n",
    "    \n",
    "    def show_result(self, path_tpx,path_daw,strategy='normal'):\n",
    "        x_check, y_check = self.make_check_data(path_tpx,path_daw)  \n",
    "        self.simulate(x_check,y_check,strategy)\n",
    "        \n",
    "        \n",
    "    def return_profit_rate(self, path_tpx,path_daw,wallet=2500,strategy='normal'):\n",
    "        self.simulate(path_tpx,path_daw, is_validate=False,strategy=strategy)\n",
    "        self.pr_log['reward'] = self.pr_log['reward'].map(lambda x: x/wallet)\n",
    "        self.pr_log['eval_reward'] = self.pr_log['eval_reward'].map(lambda x: x/wallet)\n",
    "        return self.pr_log\n",
    "    \n",
    "class TechnicalSimulation():\n",
    "    \n",
    "    \n",
    "    def __init__(self,ma_short=5, ma_long=25, hold_day=5, year=2021):\n",
    "        self.ma_short = ma_short\n",
    "        self.ma_long = ma_long\n",
    "        self.hold_day = hold_day\n",
    "        self.year = year\n",
    "        \n",
    "        \n",
    "    def process(self,df):\n",
    "        df_process = df.copy()\n",
    "        df_process['ma_short'] = df_process['close'].rolling(self.ma_short).mean()\n",
    "        df_process['ma_long']  = df_process['close'].rolling(self.ma_long).mean()\n",
    "        return df_process[df_process.index.year==self.year]\n",
    "    \n",
    "    \n",
    "    def is_buyable(self, short_line, long_line, index_):\n",
    "#         1=<index<=len-1 仮定\n",
    "        long_is_upper = long_line.iloc[index_-1]>=short_line.iloc[index_-1]\n",
    "        long_is_lower = long_line.iloc[index_+1]<=short_line.iloc[index_+1]\n",
    "        buyable = long_is_upper and long_is_lower\n",
    "        return buyable\n",
    "    \n",
    "    \n",
    "    def is_sellable(self, short_line, long_line, index_):\n",
    "        long_is_lower = long_line.iloc[index_-1]<=short_line.iloc[index_-1]\n",
    "        long_is_upper = long_line.iloc[index_+1]>=short_line.iloc[index_+1]\n",
    "        sellable = long_is_upper and long_is_lower\n",
    "        return sellable\n",
    "        \n",
    "        \n",
    "    def simulate(self,df,is_validate=False):\n",
    "        df_process = self.process(df)\n",
    "        is_bought = False\n",
    "        hold_count_day = 0\n",
    "        index_buy = 0\n",
    "        index_sell = 0\n",
    "        pl = PlotTrade(df_process['close'],label='close')\n",
    "        pl.add_plot(df_process['ma_short'],label='ma_5')\n",
    "        pl.add_plot(df_process['ma_long'],label='ma_25')   \n",
    "        prf = 0\n",
    "        start_time = 0\n",
    "        end_time = 0\n",
    "        short_line = df_process['ma_short']\n",
    "        long_line  = df_process['ma_long']\n",
    "        trade_count = 0\n",
    "        for_plot1=[]\n",
    "        for_plot2=[]\n",
    "        self.pr_log = pd.DataFrame()\n",
    "        self.pr_log.index = df.index\n",
    "        self.pr_log['reward'] = [0.0] * len(self.pr_log)\n",
    "        self.pr_log['eval_reward'] = self.pr_log['reward'].tolist()\n",
    "        eval_price = 0\n",
    "        total_eval_price = 0\n",
    "        \n",
    "        \n",
    "        for i in range(5,len(df_process)-1):\n",
    "            \n",
    "            \n",
    "            total_eval_price = prf\n",
    "            self.pr_log['reward'].loc[df_process.index[i]] = prf \n",
    "            self.pr_log['eval_reward'].loc[df_process.index[i]] = total_eval_price\n",
    "            if not is_bought:\n",
    "                \n",
    "                if self.is_buyable(short_line,long_line,i):\n",
    "                    index_buy = df_process['close'].iloc[i]\n",
    "                    is_bought = True\n",
    "                    start_time = df_process.index[i]\n",
    "                    hold_count_day = 0\n",
    "                else:\n",
    "                    continue\n",
    "            \n",
    "            \n",
    "            else:\n",
    "                \n",
    "                if self.is_sellable(short_line,long_line,i) or hold_count_day==self.hold_day:\n",
    "                    index_cell = df_process['close'].iloc[i]\n",
    "                    end_time = df_process.index[i]\n",
    "                    prf += index_cell - index_buy\n",
    "                    total_eval_price = prf\n",
    "                    self.pr_log['reward'].loc[df_process.index[i]] = prf \n",
    "                    self.pr_log['eval_reward'].loc[df_process.index[i]] = total_eval_price\n",
    "                    trade_count+=1\n",
    "                    is_bought = False\n",
    "                    hold_count_day = 0\n",
    "                    pl.add_span(start_time,end_time)\n",
    "                else:\n",
    "                    hold_count_day+=1\n",
    "                    eval_price = df_process['close'].iloc[i] - index_buy\n",
    "                    total_eval_price += eval_price\n",
    "                    self.pr_log['eval_reward'].loc[df_process.index[i]] = total_eval_price\n",
    "                    \n",
    "        \n",
    "        if is_bought and hold_count_day>0:\n",
    "            end_time = df_process['close'].index[-1]\n",
    "            pl.add_span(start_time,end_time)\n",
    "            eval_price = df_process['close'].iloc[-1] - index_buy\n",
    "            total_eval_price += eval_price\n",
    "            self.pr_log['eval_reward'].loc[df_process.index[-1]] = total_eval_price\n",
    "        \n",
    "    \n",
    "        if not is_validate:        \n",
    "            print(\"Total profit {}.\".format(prf))\n",
    "            print(\"Trade count\",trade_count)\n",
    "            pl.show()    \n",
    "        \n",
    "        \n",
    "        \n",
    "    def return_profit_rate(self, path_tpx,wallet=2500):\n",
    "        df_tpx = DataFramePreProcessing(path_tpx).load_df()\n",
    "        self.simulate(df_tpx,is_validate=True)\n",
    "        self.pr_log['reward'] = self.pr_log['reward'].map(lambda x: x/wallet)\n",
    "        self.pr_log['eval_reward'] = self.pr_log['eval_reward'].map(lambda x: x/wallet)\n",
    "        return self.pr_log\n",
    "\n",
    "class Action(Enum):\n",
    "    BUY  = -1\n",
    "    STAY = 0\n",
    "    SELL = 1\n",
    "    \n",
    "class Environment():\n",
    "    \n",
    "    \n",
    "    def __init__(self, x_train, price_chart):\n",
    "        self.x_train = x_train # state list\n",
    "        self.is_holding = False\n",
    "        self.time = 0 # x_trainのindex\n",
    "        self.price_chart = price_chart\n",
    "        self.bought_price = 0\n",
    "        \n",
    "        \n",
    "    def reset(self):\n",
    "        self.time=0\n",
    "        self.is_holding = False\n",
    "        self.bought_price = 0\n",
    "        return self.x_train.iloc[self.time].tolist()\n",
    "        \n",
    "    \n",
    "    def actions(self):\n",
    "        return [Action.BUY, Action.STAY, Action.SELL]\n",
    "    \n",
    "    \n",
    "    \n",
    "    def state(self):\n",
    "        return self.x_train.iloc[self.time].tolist()\n",
    "  \n",
    "            \n",
    "    def reward_func(self, action):\n",
    "        reward=0\n",
    "        \n",
    "        if self.time >= len(self.price_chart)-2: #売り切らずにエピソードを終えた時は評価額を報酬とする\n",
    "            \n",
    "            \n",
    "            if self.is_holding:\n",
    "                reward = self.price_chart.iloc[self.time+1] - self.bought_price\n",
    "            else:\n",
    "                reward = 0\n",
    "                \n",
    "            return reward, True\n",
    "        \n",
    "        \n",
    "        else:     \n",
    "            \n",
    "            \n",
    "            if action==Action.BUY:\n",
    "                reward=0\n",
    "                if not self.is_holding:\n",
    "                    self.is_holding = True\n",
    "                    self.bought_price = self.price_chart.iloc[self.time+1]\n",
    "            \n",
    "            elif action==Action.STAY:\n",
    "                reward=0\n",
    "            \n",
    "            elif action==Action.SELL:\n",
    "                reward = 0\n",
    "                if self.is_holding:\n",
    "                    reward = self.price_chart.iloc[self.time+1] - self.bought_price\n",
    "                    self.bought_price = 0\n",
    "                    self.is_holding=False\n",
    "            \n",
    "            return reward, False\n",
    "            \n",
    "    \n",
    "    \n",
    "    def step(self, action):\n",
    "        reward, done = self.reward_func(action)\n",
    "        self.time += 1\n",
    "        next_state = self.state()\n",
    "        return next_state, reward, done\n",
    "    \n",
    "class SigmoidEnv(Environment):\n",
    "\n",
    "    \n",
    "    def sigmoid(self, x_):\n",
    "        return 1/(1+np.exp(-x_))\n",
    "    \n",
    "     \n",
    "    def reward_func(self, action):\n",
    "        reward=0\n",
    "        \n",
    "        if self.time >= len(self.price_chart)-2: #売り切らずにエピソードを終えた時は評価額を報酬とする\n",
    "            \n",
    "            \n",
    "            if self.is_holding:\n",
    "                reward = self.price_chart.iloc[self.time+1] - self.bought_price\n",
    "            else:\n",
    "                reward = 0\n",
    "                \n",
    "            return 2*self.sigmoid(reward)-1, True\n",
    "        \n",
    "        \n",
    "        else:     \n",
    "            \n",
    "            \n",
    "            if action==Action.BUY:\n",
    "                reward=0\n",
    "                if not self.is_holding:\n",
    "                    self.is_holding = True\n",
    "                    self.bought_price = self.price_chart.iloc[self.time+1]\n",
    "            \n",
    "            elif action==Action.STAY:\n",
    "                reward=0\n",
    "            \n",
    "            elif action==Action.SELL:\n",
    "                reward = 0\n",
    "                if self.is_holding:\n",
    "                    reward = self.price_chart.iloc[self.time+1] - self.bought_price\n",
    "                    self.bought_price = 0\n",
    "                    self.is_holding=False\n",
    "            \n",
    "            return 2*self.sigmoid(reward)-1, False\n",
    "        \n",
    "class TanhEnv(Environment):\n",
    "\n",
    " \n",
    "    def reward_func(self, action):\n",
    "        reward=0\n",
    "        \n",
    "        if self.time >= len(self.price_chart)-2: #売り切らずにエピソードを終えた時は評価額を報酬とする\n",
    "            \n",
    "            \n",
    "            if self.is_holding:\n",
    "                reward = self.price_chart.iloc[self.time+1] - self.bought_price\n",
    "            else:\n",
    "                reward = 0\n",
    "                \n",
    "            return np.tanh(reward), True\n",
    "        \n",
    "        \n",
    "        else:     \n",
    "            \n",
    "            \n",
    "            if action==Action.BUY:\n",
    "                reward=0\n",
    "                if not self.is_holding:\n",
    "                    self.is_holding = True\n",
    "                    self.bought_price = self.price_chart.iloc[self.time+1]\n",
    "            \n",
    "            elif action==Action.STAY:\n",
    "                reward=0\n",
    "            \n",
    "            elif action==Action.SELL:\n",
    "                reward = 0\n",
    "                if self.is_holding:\n",
    "                    reward = self.price_chart.iloc[self.time+1] - self.bought_price\n",
    "                    self.bought_price = 0\n",
    "                    self.is_holding=False\n",
    "            \n",
    "            return np.tanh(reward), False\n",
    "\n",
    "class FNAgent():\n",
    "    \n",
    "    \n",
    "    def __init__(self, epsilon, actions):\n",
    "        self.epsilon = epsilon\n",
    "        self.actions = actions\n",
    "        self.model = None\n",
    "        self.estimate_probs = False\n",
    "        self.initialized = False\n",
    "#         学習が終わったら, ε-greedy法をやめるためのフラグ変数\n",
    "        self.is_test = False\n",
    "        self.is_sarsa = False\n",
    "        \n",
    "        \n",
    "    def save(self, model_path):\n",
    "        self.model.save(model_path, overwrite=True, include_optimizer=False)\n",
    "        \n",
    "        \n",
    "    def policy(self, s):# 買ってたら戦略が変わる\n",
    "\n",
    "        if (np.random.random() < self.epsilon or not self.initialized) and not self.is_test:\n",
    "            return np.random.randint(len(self.actions))\n",
    "        else:\n",
    "            estimates = self.estimate(s)\n",
    "            if self.estimate_probs:\n",
    "                return np.random.choice(self.actions,size=1, p=estimates)[0]\n",
    "            else:\n",
    "                return np.argmax(estimates)\n",
    "        \n",
    "    @classmethod\n",
    "    def load(cls, env, model_path, epsilon=0.0001):\n",
    "        actions = list(range(len(Action)))\n",
    "        agent = cls(epsilon, actions)\n",
    "        agent.model = K.models.load_model(model_path)\n",
    "        agent.initialized = True\n",
    "        return agent\n",
    "    \n",
    "    \n",
    "    def initialize(self, experiences):\n",
    "        pass\n",
    "        \n",
    "        \n",
    "    def estimate(self, s):\n",
    "        pass\n",
    "        \n",
    "        \n",
    "    def update(self, experiences, gamma):\n",
    "        pass\n",
    "        \n",
    "        \n",
    "    def play(self, env, episode_count=1):\n",
    "        pass\n",
    "    \n",
    "class ValueFunctionAgent(FNAgent):\n",
    "\n",
    "    \n",
    "    def save(self, model_path):\n",
    "        joblib.dump(self.model, model_path)\n",
    "\n",
    "    \n",
    "    @classmethod\n",
    "    def load(cls, env, model_path, epsilon=0.0001):\n",
    "        actions = list(range(len(Action)))\n",
    "        agent = cls(epsilon, actions)\n",
    "        agent.model = joblib.load(model_path)\n",
    "        agent.initialized = True\n",
    "        agent.is_test = True\n",
    "        return agent\n",
    "\n",
    "    \n",
    "    def initialize(self, experiences):\n",
    "        self.early_stopping = EarlyStopping(monitor='loss', patience=10, verbose=0)\n",
    "        output_size = len(self.actions)\n",
    "        self.model = tf.keras.Sequential()\n",
    "        self.model.add(tf.keras.layers.Dense(10, input_shape=(len(experiences[0].s),),activation='relu'))\n",
    "        self.model.add(tf.keras.layers.Dropout(0.5))\n",
    "        self.model.add(tf.keras.layers.Dense(output_size,activation='relu'))\n",
    "        self.model.compile(optimizer='adam', loss='mse',metrics=['accuracy'])\n",
    "        \n",
    "#         axis=0 -> たて, axis=1 -> よこ        \n",
    "        # Avoid the predict before fit.\n",
    "        if not self.is_sarsa:\n",
    "            self.update([experiences[0]], gamma=0)\n",
    "        else:\n",
    "            self.update_sarsa([experiences[0]], gamma=0)\n",
    "        self.initialized = True\n",
    "        print(\"Done initialization. From now, begin training!\")\n",
    "\n",
    "    \n",
    "    def estimate(self, s):\n",
    "#         axis=1だとエラー ここだけは横で標準化\n",
    "        s = preprocessing.scale(s,axis=0)\n",
    "        s = np.array(s).reshape(1,-1)\n",
    "        estimated = self.model.predict(s)[0]\n",
    "        return estimated\n",
    "\n",
    "    \n",
    "    def _predict(self, states):\n",
    "        if self.initialized:\n",
    "#             とりあえず, axis=1\n",
    "            states = preprocessing.scale(states,axis=1)\n",
    "            predicteds = self.model.predict(states)\n",
    "        else:\n",
    "            size = len(self.actions) * len(states)\n",
    "            predicteds = np.random.uniform(size=size)\n",
    "            predicteds = predicteds.reshape((-1, len(self.actions)))\n",
    "        return predicteds\n",
    "\n",
    "    \n",
    "    def update(self, experiences, gamma):        \n",
    "        batch_size = 1\n",
    "        epochs = 1\n",
    "        states = np.vstack([e.s for e in experiences])\n",
    "        n_states =  np.vstack([e.n_s for e in experiences])\n",
    "        estimateds = self._predict(states)\n",
    "        future = self._predict(n_states)\n",
    "\n",
    "\n",
    "        for i, e in enumerate(experiences):\n",
    "            reward = e.r\n",
    "            if not e.d:\n",
    "                reward += gamma * np.max(future[i])\n",
    "            estimateds[i][e.a] = reward\n",
    "\n",
    "        estimateds = np.array(estimateds)\n",
    "        states = preprocessing.scale(states,axis=1)\n",
    "        self.model.fit(states, estimateds,batch_size=batch_size,epochs=epochs,callbacks=[self.early_stopping],verbose=0)\n",
    "        \n",
    "\n",
    "#         ******************* SARSA法\n",
    "    def update_sarsa(self,experiences, gamma):\n",
    "        batch_size = 1\n",
    "        epochs = 1\n",
    "        states = np.vstack([e.s for e in experiences])\n",
    "        n_states = np.vstack([e.n_s for e in experiences])\n",
    "        estimateds = self._predict(states)\n",
    "        future = self._predict(n_states)\n",
    "        \n",
    "\n",
    "        for i, e in enumerate(experiences):\n",
    "            reward = e.r\n",
    "            if not e.d:\n",
    "                reward += gamma * future[i][e.n_a]\n",
    "            estimateds[i][e.a] = reward\n",
    "\n",
    "        estimateds = np.array(estimateds)\n",
    "        states = preprocessing.scale(states)\n",
    "        self.model.fit(states, estimateds,batch_size=batch_size,epochs=epochs,callbacks=[self.early_stopping],verbose=0)\n",
    "        \n",
    "        \n",
    "    def play(self, env, episode_count=1,is_validate=False):\n",
    "        actions = env.actions()\n",
    "#       学習が終わったら, ε-greedy法をやめる\n",
    "        self.pr_log = pd.DataFrame()\n",
    "        self.pr_log.index = env.price_chart.index\n",
    "        self.pr_log['reward'] = [0.0] * len(self.pr_log)\n",
    "        self.pr_log['eval_reward'] = self.pr_log['reward'].tolist()\n",
    "        eval_price = 0\n",
    "        total_eval_price = 0\n",
    "        if self.initialized:\n",
    "            self.is_test = True\n",
    "            \n",
    "            \n",
    "        for e in range(episode_count):\n",
    "\n",
    "            s = env.reset()\n",
    "            done = False\n",
    "            total_reward = 0\n",
    "            reward_log = []\n",
    "            if not is_validate:\n",
    "                pl = PlotTrade(env.price_chart)\n",
    "            else:\n",
    "                pl = ValidatePlot(None,is_validate=is_validate)\n",
    "            trade_count = 0\n",
    "            is_bought = False\n",
    "            start_time = env.price_chart.index[0]\n",
    "            end_time = env.price_chart.index[0]\n",
    "                \n",
    "            \n",
    "            while not done:\n",
    "                a = self.policy(s)\n",
    "                action = actions[a]\n",
    "                n_state, reward, done = env.step(action)\n",
    "                total_reward += reward    \n",
    "#                 *******\n",
    "                total_eval_price = total_reward\n",
    "    \n",
    "                self.pr_log['reward'].iloc[env.time] = total_reward\n",
    "                self.pr_log['eval_reward'].iloc[env.time] = total_eval_price\n",
    "                s = n_state\n",
    "                reward_log.append(total_reward)\n",
    "                #============ render ============\n",
    "\n",
    "                \n",
    "                if not is_bought:\n",
    "                    if env.is_holding and action == Action.BUY:\n",
    "                        start_time = env.price_chart.index[env.time]\n",
    "                        is_bought = True\n",
    "#                         ******\n",
    "                        eval_price = env.price_chart.iloc[env.time] - env.bought_price\n",
    "                        total_eval_price += eval_price\n",
    "                        self.pr_log['eval_reward'].iloc[env.time] = total_eval_price\n",
    "                else:\n",
    "                    if not env.is_holding and action == Action.SELL:\n",
    "                        end_time = env.price_chart.index[env.time]\n",
    "                        is_bought = False\n",
    "                        pl.add_span(start_time,end_time)\n",
    "                        trade_count += 1\n",
    "                    elif env.is_holding:\n",
    "                        eval_price = env.price_chart.iloc[env.time] - env.bought_price\n",
    "                        total_eval_price += eval_price\n",
    "                        self.pr_log['eval_reward'].iloc[env.time] = total_eval_price\n",
    "                        \n",
    "                        \n",
    "            else:\n",
    "                self.reward_log = reward_log\n",
    "                self.pr_log['reward'].iloc[-1] = total_reward\n",
    "                if is_bought and env.is_holding:\n",
    "                    end_time = env.price_chart.index[env.time]\n",
    "                    self.pr_log['eval_reward'].iloc[-1] = total_eval_price\n",
    "                    pl.add_span(start_time,end_time)\n",
    "                    trade_count+=1\n",
    "                    \n",
    "                if not is_validate:\n",
    "                    print(\"==================\")\n",
    "                    print(\"episode :\",e) \n",
    "                    print(\"Get reward {}.\".format(total_reward))\n",
    "                    print(\"Trade count {}.\".format(trade_count))\n",
    "                    print(\"Tomorrow action :\",action)\n",
    "                    pl.show()\n",
    "                return  total_reward, trade_count\n",
    "            \n",
    "    \n",
    "    def return_profit_rate(self,env_check,wallet=2500):\n",
    "        #         wallet      : 元本のこと 2500は25万円のこと\n",
    "        #         reward      : 実現収益\n",
    "        #         eval_reward : 評価損益も含んだ収益率 \n",
    "        self.play(env_check,is_validate=True)\n",
    "        self.pr_log['reward'] = self.pr_log['reward'].map(lambda x: x/wallet)\n",
    "        self.pr_log['eval_reward'] = self.pr_log['eval_reward'].map(lambda x: x/wallet)\n",
    "        return self.pr_log\n",
    "            \n",
    "        \n",
    "    def return_trade_log(self):\n",
    "        return self.reward_log\n",
    "        \n",
    "class Trainer():\n",
    "\n",
    "    \n",
    "    def __init__(self, buffer_size=1024, batch_size=32,gamma=0.9):\n",
    "        self.buffer_size = buffer_size\n",
    "        self.batch_size = batch_size\n",
    "        self.gamma = gamma\n",
    "        self.experiences = deque(maxlen=buffer_size)\n",
    "        self.training = False\n",
    "        self.training_count = 0\n",
    "        \n",
    "\n",
    "    def train_loop(self, env,agent, episode=200, initial_count=-1,env_sample=None,is_sarsa=False):\n",
    "        self.experiences = deque(maxlen=self.buffer_size)\n",
    "        self.training = False\n",
    "        self.training_count = 0\n",
    "        actions = env.actions()\n",
    "        reward_log = []\n",
    "        validate_reward_log = []\n",
    "        \n",
    "        for i in range(episode):\n",
    "            s = env.reset()\n",
    "            done = False\n",
    "            step_count = 0\n",
    "            self.episode_begin(i, agent)\n",
    "            total_rewards = 0\n",
    "            \n",
    "            if i%100==0:\n",
    "                print(\"----------------------\")\n",
    "                print(\"episode :\",i)\n",
    "            \n",
    "            while not done:\n",
    "                \n",
    "\n",
    "                a = agent.policy(s)\n",
    "                action = actions[a]\n",
    "                n_state, reward, done = env.step(action)\n",
    "                n_a = agent.policy(n_state)\n",
    "                e = Experience(s, a, reward, n_state, n_a, done)\n",
    "                total_rewards += reward\n",
    "                self.experiences.append(e)\n",
    "                \n",
    "                \n",
    "                if not self.training and len(self.experiences) == self.buffer_size:\n",
    "                    if is_sarsa:\n",
    "                        agent.is_sarsa=True\n",
    "                    self.begin_train(i, agent)\n",
    "                    self.training = True\n",
    "\n",
    "                self.step(i, step_count, agent, e,is_sarsa)\n",
    "\n",
    "                s = n_state\n",
    "                step_count += 1\n",
    "            else:\n",
    "#                 self.episode_end(i, step_count, agent)\n",
    "                \n",
    "                reward_log.append(total_rewards)\n",
    "#         検証用のlog\n",
    "                if env_sample!=None:\n",
    "                    validate_reward, dummy = agent.play(env_sample,is_validate=True)\n",
    "                    validate_reward_log.append(validate_reward)\n",
    "                if not self.training and initial_count > 0 and i >= initial_count:\n",
    "                    self.begin_train(i, agent)\n",
    "                    self.training = True\n",
    "\n",
    "\n",
    "                if self.training:\n",
    "                    self.training_count += 1\n",
    "                    \n",
    "\n",
    "        print(\"train reward\")         \n",
    "        plt.clf() \n",
    "        plt.plot(reward_log)\n",
    "        plt.xlabel('episode')\n",
    "        plt.ylabel('reward')\n",
    "        plt.show()\n",
    "        \n",
    "        \n",
    "        if env_sample!=None:\n",
    "            print(\"validate data reward\")\n",
    "            plt.clf() \n",
    "            plt.plot(validate_reward_log)\n",
    "            plt.xlabel('episode')\n",
    "            plt.ylabel('reward')\n",
    "            plt.show()\n",
    "        \n",
    "        self.reward_log = reward_log\n",
    "        self.validate_reward_log = validate_reward_log\n",
    "        \n",
    "        \n",
    "    def return_reward_log(self):\n",
    "        return self.reward_log, self.validate_reward_log\n",
    "    \n",
    "    \n",
    "    def episode_begin(self, episode, agent):\n",
    "        pass\n",
    "\n",
    "    \n",
    "    def begin_train(self, episode, agent):\n",
    "        pass\n",
    "\n",
    "    \n",
    "    def step(self, episode, step_count, agent, experience):\n",
    "        pass\n",
    "\n",
    "    \n",
    "    def episode_end(self, episode, step_count, agent):\n",
    "        pass\n",
    "\n",
    "    \n",
    "    def is_event(self, count, interval):\n",
    "        return True if count != 0 and count % interval == 0 else False\n",
    "\n",
    "    \n",
    "    def get_recent(self, count):\n",
    "        recent = range(len(self.experiences) - count, len(self.experiences))\n",
    "        return [self.experiences[i] for i in recent]\n",
    "    \n",
    "class ValueFunctionTrainer(Trainer):\n",
    "\n",
    "    \n",
    "    def train(self, env, episode_count=250, epsilon=0.01, initial_count=-1,env_sample=None,is_sarsa=False):\n",
    "        actions = list(range(len(Action)))\n",
    "        agent = ValueFunctionAgent(epsilon, actions)\n",
    "        self.train_loop(env, agent, episode_count, initial_count,env_sample,is_sarsa)\n",
    "        return agent\n",
    "\n",
    "   \n",
    "    def begin_train(self, episode, agent):\n",
    "        agent.initialize(self.experiences)\n",
    "\n",
    "    \n",
    "    def step(self, episode, step_count, agent, experience,is_sarsa):\n",
    "        if self.training:\n",
    "            batch = random.sample(self.experiences, self.batch_size)\n",
    "            if not is_sarsa:\n",
    "                agent.update(batch, self.gamma)\n",
    "#             SARSA法\n",
    "            else:\n",
    "                agent.update_sarsa(batch, self.gamma)\n",
    "      \n",
    "    \n",
    "    def episode_end(self, episode, step_count, agent):\n",
    "#         rewards = [e.r for e in self.get_recent(step_count)]\n",
    "        pass\n",
    "        \n",
    "class MakeTrainData():\n",
    "    \n",
    "    \n",
    "    def __init__(self, df_con, test_rate=0.9, questions_index = [], is_bit_search=False,is_category=True,ma_short=5,ma_long=25):\n",
    "        self.df_con = df_con\n",
    "        self.test_rate = test_rate\n",
    "        self.questions_index = questions_index\n",
    "        self.is_bit_search = is_bit_search\n",
    "        self.is_category = is_category\n",
    "        self.ma_short = ma_short\n",
    "        self.ma_long = ma_long\n",
    "        \n",
    "        \n",
    "    def labeling(self):\n",
    "        if self.is_category:\n",
    "            up=1\n",
    "            down=0\n",
    "        else:\n",
    "            up=[0,1]\n",
    "            down=[1,0]\n",
    "        \n",
    "        \n",
    "        return up,down\n",
    "    \n",
    "    \n",
    "    def append_onehotlist(self, one_hot_list, questions):\n",
    "        for i in range(len(questions)):\n",
    "            if questions[i]:\n",
    "                one_hot_list.append(1)\n",
    "            else:\n",
    "                one_hot_list.append(0)\n",
    "                \n",
    "                \n",
    "    def add_ma(self):\n",
    "        df_process = self.df_con.copy()\n",
    "        df_process['ma_short'] = df_process['close'].rolling(self.ma_short).mean()\n",
    "        df_process['ma_long']  = df_process['close'].rolling(self.ma_long).mean()\n",
    "        return df_process\n",
    "                \n",
    "    \n",
    "    def make_question_column(self):\n",
    "        column_questions = [\n",
    "            \n",
    "            'dawp_5',\n",
    "            'dawp_4',\n",
    "            'dawp_3',\n",
    "            'dawp_2',\n",
    "            'dawp_1',\n",
    "            'nikkeip_5',\n",
    "            'nikkeip_4',\n",
    "            'nikkeip_3',\n",
    "            'nikkeip_2',\n",
    "            'nikkeip_1',\n",
    "            'diff_rate',\n",
    "            'nikkei_volumep',\n",
    "            'ma_short',\n",
    "            'ma_long'\n",
    "        \n",
    "        ]\n",
    "        return column_questions\n",
    "        \n",
    "        \n",
    "    def make_data(self):\n",
    "        selected_column = []\n",
    "        if self.is_bit_search:\n",
    "            for i in self.questions_index:\n",
    "                selected_column.append(self.column[i])\n",
    "            dfx = pd.DataFrame(columns = selected_column)\n",
    "        else:\n",
    "            dfx = pd.DataFrame(columns = self.make_question_column())\n",
    "        df_tpx_p = self.df_con['close'].pct_change()\n",
    "        df_ans = []\n",
    "        day_sride = 5 # 何日前まで見るか　\n",
    "                      # default = 5\n",
    "                        \n",
    "        up, down = self.labeling()\n",
    "        for i in range(self.ma_long,len(self.df_con)-1):\n",
    "            dawp_5 = self.df_con['dclose'].iloc[i-4]\n",
    "            dawp_4 = self.df_con['dclose'].iloc[i-3]\n",
    "            dawp_3 = self.df_con['dclose'].iloc[i-2]\n",
    "            dawp_2 = self.df_con['dclose'].iloc[i-1]\n",
    "            dawp_1 = self.df_con['dclose'].iloc[i]\n",
    "            nikkeip_5 = df_tpx_p.iloc[i-4]\n",
    "            nikkeip_4 = df_tpx_p.iloc[i-3]\n",
    "            nikkeip_3 = df_tpx_p.iloc[i-2]\n",
    "            nikkeip_2 = df_tpx_p.iloc[i-1]\n",
    "            nikkeip_1 = df_tpx_p.iloc[i]\n",
    "            \n",
    "            diff_high_low = self.df_con['high'].iloc[i] - \\\n",
    "                            self.df_con['low'].iloc[i]\n",
    "            diff_rate = diff_high_low / self.df_con['close'].iloc[i]\n",
    "            nikkei_volumep = (self.df_con['volume'].iloc[i] - self.df_con['volume'].iloc[i-1])\\\n",
    "            /self.df_con['volume'].iloc[i-1]\n",
    "            df_ma = self.add_ma()\n",
    "            ma_short = df_ma['ma_short'].iloc[i]\n",
    "            ma_long  = df_ma['ma_long'].iloc[i]\n",
    "            \n",
    "            \n",
    "    # ---------------Question----------------\n",
    "            questions = [\n",
    "                dawp_5,\n",
    "                dawp_4,\n",
    "                dawp_3,\n",
    "                dawp_2,\n",
    "                dawp_1,\n",
    "                nikkeip_5,\n",
    "                nikkeip_4,\n",
    "                nikkeip_3,\n",
    "                nikkeip_2,\n",
    "                nikkeip_1,\n",
    "                diff_rate,\n",
    "                nikkei_volumep,\n",
    "                ma_short,\n",
    "                ma_long\n",
    "            ]\n",
    "        \n",
    "            \n",
    "            if self.is_bit_search:\n",
    "                selected_questions = []\n",
    "                for j in self.questions_index:\n",
    "                    selected_questions.append(questions[j])\n",
    "                    \n",
    "            else:\n",
    "                selected_questions = questions\n",
    "\n",
    "\n",
    "            dfx.loc[self.df_con.index[i]] = selected_questions\n",
    "            tommorow_close = self.df_con['close'].iloc[i+1]\n",
    "            today_close    = self.df_con['close'].iloc[i]\n",
    "            if tommorow_close>today_close:\n",
    "                df_ans.append(up)\n",
    "            else:\n",
    "                df_ans.append(down)\n",
    "                \n",
    "        x_train = dfx.iloc[:int(len(dfx)*self.test_rate)]\n",
    "        y_train = df_ans[:int(len(dfx)*self.test_rate)]\n",
    "        x_test  = dfx.iloc[int(len(dfx)*self.test_rate):]\n",
    "        y_test  = df_ans[int(len(dfx)*self.test_rate):]\n",
    "        \n",
    "        \n",
    "        return x_train, y_train, x_test, y_test\n",
    "    \n",
    "    \n",
    "    def make_check_data(self):\n",
    "        selected_column = []\n",
    "        dfx = pd.DataFrame(columns = self.make_question_column())\n",
    "        df_tpx_p = self.df_con['close'].pct_change()\n",
    "        df_ans = []\n",
    "        day_sride = 5 # 何日前まで見るか　\n",
    "                      # default = 5\n",
    "                        \n",
    "        up, down = self.labeling()\n",
    "        for i in range(self.ma_long,len(self.df_con)):\n",
    "            dawp_5 = self.df_con['dclose'].iloc[i-4]\n",
    "            dawp_4 = self.df_con['dclose'].iloc[i-3]\n",
    "            dawp_3 = self.df_con['dclose'].iloc[i-2]\n",
    "            dawp_2 = self.df_con['dclose'].iloc[i-1]\n",
    "            dawp_1 = self.df_con['dclose'].iloc[i]\n",
    "            nikkeip_5 = df_tpx_p.iloc[i-4]\n",
    "            nikkeip_4 = df_tpx_p.iloc[i-3]\n",
    "            nikkeip_3 = df_tpx_p.iloc[i-2]\n",
    "            nikkeip_2 = df_tpx_p.iloc[i-1]\n",
    "            nikkeip_1 = df_tpx_p.iloc[i]\n",
    "            \n",
    "            diff_high_low = self.df_con['high'].iloc[i] - \\\n",
    "                            self.df_con['low'].iloc[i]\n",
    "            diff_rate = diff_high_low / self.df_con['close'].iloc[i]\n",
    "            nikkei_volumep = (self.df_con['volume'].iloc[i] - self.df_con['volume'].iloc[i-1])\\\n",
    "            /self.df_con['volume'].iloc[i-1]\n",
    "            df_ma = self.add_ma()\n",
    "            ma_short = df_ma['ma_short'].iloc[i]\n",
    "            ma_long  = df_ma['ma_long'].iloc[i]\n",
    "    # ---------------Question----------------\n",
    "            questions = [\n",
    "                dawp_5,\n",
    "                dawp_4,\n",
    "                dawp_3,\n",
    "                dawp_2,\n",
    "                dawp_1,\n",
    "                nikkeip_5,\n",
    "                nikkeip_4,\n",
    "                nikkeip_3,\n",
    "                nikkeip_2,\n",
    "                nikkeip_1,\n",
    "                diff_rate,\n",
    "                nikkei_volumep,\n",
    "                ma_short,\n",
    "                ma_long\n",
    "            ]\n",
    "            selected_questions = questions\n",
    "            dfx.loc[self.df_con.index[i]] = selected_questions\n",
    "\n",
    "                \n",
    "        x_check = dfx\n",
    "        chart_ = self.df_con.loc[x_check.index]\n",
    "#         x_check, chart_のインデックス合わなくなるから注意\n",
    "        \n",
    "        return x_check, chart_\n",
    "    \n",
    "    \n",
    "class NewData(MakeTrainData):\n",
    "    \n",
    "    \n",
    "    def add_ma(self):\n",
    "        df_process = self.df_con.copy()\n",
    "        df_process['ma_short'] = df_process['close'].rolling(self.ma_short).mean()\n",
    "        df_process['ma_long']  = df_process['close'].rolling(self.ma_long).mean()\n",
    "        df_process['std_short'] = df_process['close'].rolling(self.ma_short).std()\n",
    "        df_process['std_long'] = df_process['close'].rolling(self.ma_long).std()\n",
    "        return df_process\n",
    "    \n",
    "    \n",
    "    def make_question_column(self):\n",
    "        column_questions = [\n",
    "            \n",
    "            'dawp_5',\n",
    "            'dawp_4',\n",
    "            'dawp_3',\n",
    "            'dawp_2',\n",
    "            'dawp_1',\n",
    "            'nikkeip_5',\n",
    "            'nikkeip_4',\n",
    "            'nikkeip_3',\n",
    "            'nikkeip_2',\n",
    "            'nikkeip_1',\n",
    "            'diff_rate',\n",
    "            'nikkei_volumep',\n",
    "            'ma_short',\n",
    "            'ma_long',\n",
    "            'std_short',\n",
    "            'std_long'\n",
    "        \n",
    "        ]\n",
    "        return column_questions\n",
    "        \n",
    "        \n",
    "    def make_data(self):\n",
    "        selected_column = []\n",
    "        if self.is_bit_search:\n",
    "            for i in self.questions_index:\n",
    "                selected_column.append(self.column[i])\n",
    "            dfx = pd.DataFrame(columns = selected_column)\n",
    "        else:\n",
    "            dfx = pd.DataFrame(columns = self.make_question_column())\n",
    "        df_tpx_p = self.df_con['close'].pct_change()\n",
    "        df_ans = []\n",
    "        day_sride = 5 # 何日前まで見るか　\n",
    "                      # default = 5\n",
    "                        \n",
    "        up, down = self.labeling()\n",
    "        for i in range(self.ma_long,len(self.df_con)-1):\n",
    "            dawp_5 = self.df_con['dclose'].iloc[i-4]\n",
    "            dawp_4 = self.df_con['dclose'].iloc[i-3]\n",
    "            dawp_3 = self.df_con['dclose'].iloc[i-2]\n",
    "            dawp_2 = self.df_con['dclose'].iloc[i-1]\n",
    "            dawp_1 = self.df_con['dclose'].iloc[i]\n",
    "            nikkeip_5 = df_tpx_p.iloc[i-4]\n",
    "            nikkeip_4 = df_tpx_p.iloc[i-3]\n",
    "            nikkeip_3 = df_tpx_p.iloc[i-2]\n",
    "            nikkeip_2 = df_tpx_p.iloc[i-1]\n",
    "            nikkeip_1 = df_tpx_p.iloc[i]\n",
    "            \n",
    "            diff_high_low = self.df_con['high'].iloc[i] - \\\n",
    "                            self.df_con['low'].iloc[i]\n",
    "            diff_rate = diff_high_low / self.df_con['close'].iloc[i]\n",
    "            nikkei_volumep = (self.df_con['volume'].iloc[i] - self.df_con['volume'].iloc[i-1])\\\n",
    "            /self.df_con['volume'].iloc[i-1]\n",
    "            df_ma = self.add_ma()\n",
    "            ma_short = df_ma['ma_short'].iloc[i]\n",
    "            ma_long  = df_ma['ma_long'].iloc[i]\n",
    "            std_short = df_ma['std_short'].iloc[i]\n",
    "            std_long  = df_ma['std_long'].iloc[i]\n",
    "            \n",
    "            \n",
    "    # ---------------Question----------------\n",
    "            questions = [\n",
    "                dawp_5,\n",
    "                dawp_4,\n",
    "                dawp_3,\n",
    "                dawp_2,\n",
    "                dawp_1,\n",
    "                nikkeip_5,\n",
    "                nikkeip_4,\n",
    "                nikkeip_3,\n",
    "                nikkeip_2,\n",
    "                nikkeip_1,\n",
    "                diff_rate,\n",
    "                nikkei_volumep,\n",
    "                ma_short,\n",
    "                ma_long,\n",
    "                std_short,\n",
    "                std_long\n",
    "            ]\n",
    "        \n",
    "            \n",
    "            if self.is_bit_search:\n",
    "                selected_questions = []\n",
    "                for j in self.questions_index:\n",
    "                    selected_questions.append(questions[j])\n",
    "                    \n",
    "            else:\n",
    "                selected_questions = questions\n",
    "\n",
    "\n",
    "            dfx.loc[self.df_con.index[i]] = selected_questions\n",
    "            tommorow_close = self.df_con['close'].iloc[i+1]\n",
    "            today_close    = self.df_con['close'].iloc[i]\n",
    "            if tommorow_close>today_close:\n",
    "                df_ans.append(up)\n",
    "            else:\n",
    "                df_ans.append(down)\n",
    "                \n",
    "        x_train = dfx.iloc[:int(len(dfx)*self.test_rate)]\n",
    "        y_train = df_ans[:int(len(dfx)*self.test_rate)]\n",
    "        x_test  = dfx.iloc[int(len(dfx)*self.test_rate):]\n",
    "        y_test  = df_ans[int(len(dfx)*self.test_rate):]\n",
    "        \n",
    "        \n",
    "        return x_train, y_train, x_test, y_test\n",
    "    \n",
    "    \n",
    "    def make_check_data(self):\n",
    "        selected_column = []\n",
    "        dfx = pd.DataFrame(columns = self.make_question_column())\n",
    "        df_tpx_p = self.df_con['close'].pct_change()\n",
    "        df_ans = []\n",
    "        day_sride = 5 # 何日前まで見るか　\n",
    "                      # default = 5\n",
    "                        \n",
    "        up, down = self.labeling()\n",
    "        for i in range(self.ma_long,len(self.df_con)):\n",
    "            dawp_5 = self.df_con['dclose'].iloc[i-4]\n",
    "            dawp_4 = self.df_con['dclose'].iloc[i-3]\n",
    "            dawp_3 = self.df_con['dclose'].iloc[i-2]\n",
    "            dawp_2 = self.df_con['dclose'].iloc[i-1]\n",
    "            dawp_1 = self.df_con['dclose'].iloc[i]\n",
    "            nikkeip_5 = df_tpx_p.iloc[i-4]\n",
    "            nikkeip_4 = df_tpx_p.iloc[i-3]\n",
    "            nikkeip_3 = df_tpx_p.iloc[i-2]\n",
    "            nikkeip_2 = df_tpx_p.iloc[i-1]\n",
    "            nikkeip_1 = df_tpx_p.iloc[i]\n",
    "            \n",
    "            diff_high_low = self.df_con['high'].iloc[i] - \\\n",
    "                            self.df_con['low'].iloc[i]\n",
    "            diff_rate = diff_high_low / self.df_con['close'].iloc[i]\n",
    "            nikkei_volumep = (self.df_con['volume'].iloc[i] - self.df_con['volume'].iloc[i-1])\\\n",
    "            /self.df_con['volume'].iloc[i-1]\n",
    "            df_ma = self.add_ma()\n",
    "            ma_short = df_ma['ma_short'].iloc[i]\n",
    "            ma_long  = df_ma['ma_long'].iloc[i]\n",
    "            std_short = df_ma['std_short'].iloc[i]\n",
    "            std_long  = df_ma['std_long'].iloc[i]\n",
    "    # ---------------Question----------------\n",
    "            questions = [\n",
    "                dawp_5,\n",
    "                dawp_4,\n",
    "                dawp_3,\n",
    "                dawp_2,\n",
    "                dawp_1,\n",
    "                nikkeip_5,\n",
    "                nikkeip_4,\n",
    "                nikkeip_3,\n",
    "                nikkeip_2,\n",
    "                nikkeip_1,\n",
    "                diff_rate,\n",
    "                nikkei_volumep,\n",
    "                ma_short,\n",
    "                ma_long,\n",
    "                std_short,\n",
    "                std_long\n",
    "            ]\n",
    "            selected_questions = questions\n",
    "            dfx.loc[self.df_con.index[i]] = selected_questions\n",
    "\n",
    "                \n",
    "        x_check = dfx\n",
    "        chart_ = self.df_con.loc[x_check.index]\n",
    "#         x_check, chart_のインデックス合わなくなるから注意\n",
    "        \n",
    "        return x_check, chart_\n",
    "    \n",
    "    \n",
    "    \n",
    "class LearnXGB():\n",
    "    \n",
    "    \n",
    "    def __init__(self):\n",
    "        self.model = xgb.XGBClassifier()\n",
    "        self.df_con = None\n",
    "        self.x_test = None\n",
    "    \n",
    "    \n",
    "    def learn_xgb(self, path_tpx, path_daw, test_rate=0.8, param_dist='None'):\n",
    "        x_train,y_train,x_test,y_test = self.make_xgb_data(path_tpx,path_daw,test_rate)\n",
    "        \n",
    "        if param_dist=='None':\n",
    "            param_dist = {\n",
    "                'objective':'binary:logistic', \n",
    "                'n_estimators':16,\n",
    "                'use_label_encoder':False,\n",
    "                 'max_depth':4\n",
    "            }\n",
    "                    \n",
    "#             Grid search で求めたパラメタ 2021/11/21\n",
    "#             param_dist = {\n",
    "#                   'objective':'binary:logistic', \n",
    "#                   'eta': 0.09596830907961507, \n",
    "#                   'max_depth': 4,\n",
    "# #                   'lambda': 0.7357580506094586,\n",
    "#                   'n_estimators': 16,\n",
    "# #                   'reg_alpha': 0.6480353642599526, \n",
    "# #                   'reg_lambda': 0.48699139703134453,\n",
    "# #                   'importance_type': 'total_cover',\n",
    "#                   'use_label_encoder':False\n",
    "#                             }\n",
    "            \n",
    "        xgb_model = xgb.XGBClassifier(**param_dist)\n",
    "        hr_pred = xgb_model.fit(x_train.astype(float), np.array(y_train), eval_metric='logloss').predict(x_test.astype(float))\n",
    "        print(\"---------------------\")\n",
    "        y_proba_train = xgb_model.predict_proba(x_train)[:,1]\n",
    "        y_proba = xgb_model.predict_proba(x_test)[:,1]\n",
    "        print('AUC train:',roc_auc_score(y_train,y_proba_train))    \n",
    "        print('AUC test :',roc_auc_score(y_test,y_proba))\n",
    "        print(classification_report(np.array(y_test), hr_pred))\n",
    "        xgb.plot_importance(xgb_model) \n",
    "        self.model = xgb_model\n",
    "        \n",
    "\n",
    "    def make_state(self,path_tpx,path_daw):\n",
    "        df_con = self.make_df_con(path_tpx,path_daw)\n",
    "        mk = MakeTrainData(df_con)\n",
    "        x_check, chart_ = mk.make_check_data()\n",
    "        state_ = self.model.predict_proba(x_check.astype(float))\n",
    "        chart_ = df_con['close'].loc[x_check.index[0]:x_check.index[-1]]\n",
    "        return state_, chart_\n",
    "        \n",
    "        \n",
    "    def make_xgb_data(self, path_tpx, path_daw, test_rate=0.8,is_new=False):\n",
    "        df_con = self.make_df_con(path_tpx,path_daw)\n",
    "        if is_new:\n",
    "            x_train, y_train, x_test, y_test = NewData(df_con,test_rate=test_rate).make_data()\n",
    "        else:\n",
    "            x_train, y_train, x_test, y_test = MakeTrainData(df_con,test_rate=test_rate).make_data()\n",
    "        return x_train,y_train,x_test,y_test\n",
    "    \n",
    "    \n",
    "    def make_df_con(self,path_tpx,path_daw):\n",
    "        df_tpx = DataFramePreProcessing(path_tpx).load_df()\n",
    "        df_daw = DataFramePreProcessing(path_daw,is_daw=True).load_df()\n",
    "        daw_p = df_daw.pct_change()\n",
    "        df_con = pd.concat([daw_p,df_tpx],axis = 1,join='inner').astype(float)\n",
    "        df_con = df_con.drop(df_con[ df_con['volume']==0].index)\n",
    "        return df_con\n",
    "    \n",
    "    \n",
    "    def make_check_data(self, path_tpx, path_daw):\n",
    "        df_con = self.make_df_con(path_tpx,path_daw)\n",
    "\n",
    "        mk = MakeTrainData(df_con)\n",
    "        x_check, chart_ = mk.make_check_data()\n",
    "        state_ = self.model.predict_proba(x_check.astype(float))\n",
    "\n",
    "        chart_ = mk.df_con['close'].loc[x_check.index[0]:x_check.index[-1]]\n",
    "        state_ = pd.DataFrame(state_)\n",
    "        state_['day'] = chart_.index\n",
    "        \n",
    "        state_.reset_index(inplace=True)\n",
    "        state_.set_index('day',inplace=True)\n",
    "        state_.drop('index',axis=1,inplace=True)\n",
    "        return state_, chart_\n",
    "    \n",
    "class LearnQN():\n",
    "    \n",
    "    \n",
    "    def __init__(self):\n",
    "        self.lx = LearnXGB()\n",
    "#         ***\n",
    "\n",
    "        self.QL_agent = None\n",
    "        self.state = None\n",
    "        self.env_type = None\n",
    "        \n",
    "        \n",
    "    def save(self, save_path):\n",
    "        date_ = datetime.datetime.now().strftime('%Y%m%d')\n",
    "        name = 'xqn'+'_'+self.state+'_'+self.env_type+'_'+date_\n",
    "        with open(save_path+name+'.pickle', 'wb') as f:\n",
    "            pickle.dump(self, f)\n",
    "    \n",
    "    \n",
    "    @classmethod\n",
    "    def load(cls, save_path_qagent):\n",
    "        with open(save_path_qagent, 'rb') as f:\n",
    "             lq_copy = pickle.load(f)\n",
    "        cls(lq_copy.path_tpx,lq_copy.path_daw)\n",
    "        return lq_copy\n",
    "        \n",
    "        \n",
    "    def show_chart(self,chart_='None'):\n",
    "        if chart_=='None':\n",
    "            pl = PlotTrade(self.chart_)\n",
    "        else:\n",
    "            pl = PlotTrade(chart_)\n",
    "        pl.show()\n",
    "        \n",
    "    \n",
    "    def learn_xqn(self,path_tpx,path_daw,state='proba',env_type='profit',episode_count=100,train_year=2020,test_year=2021,is_sarsa=False):\n",
    "        state_ ,chart_ = self.make_df_state(self.lx,path_tpx,path_daw) \n",
    "        state_, chart_ = self.make_state(path_tpx,path_daw,state_,chart_,state)\n",
    "        \n",
    "        s_train = state_[state_.index.year==train_year]\n",
    "        s_test = state_[state_.index.year==test_year]\n",
    "        price_train = chart_[chart_.index.year==train_year]\n",
    "        price_test  = chart_[chart_.index.year==test_year]\n",
    "        self.env_type = env_type\n",
    "        \n",
    "        if env_type=='profit':\n",
    "            env_train = Environment(s_train,price_train)\n",
    "        elif env_type=='sigmoid':\n",
    "            env_train = SigmoidEnv(s_train,price_train)\n",
    "        elif env_type=='tanh':\n",
    "            env_train = TanhEnv(s_train,price_train)\n",
    "        else:\n",
    "            print(\"No such env_type.\")\n",
    "            return \n",
    "        \n",
    "        \n",
    "        env_test = Environment(s_test,price_test)\n",
    "        trainer = ValueFunctionTrainer()\n",
    "        trained = trainer.train(env_train,episode_count=episode_count,env_sample=env_test,is_sarsa=is_sarsa)   \n",
    "        trained.play(env_test)\n",
    "        self.QL_agent = trained\n",
    "\n",
    "        #         reward_log\n",
    "        self.train_reward_log, self.test_reward_log = trainer.return_reward_log()\n",
    "        self.test_trade_log  = trained.return_trade_log()\n",
    "        \n",
    "        \n",
    "    def return_reward_log(self):\n",
    "        return self.train_reward_log, self.test_reward_log\n",
    "    \n",
    "    \n",
    "    def return_test_trade_log(self):\n",
    "        return self.test_trade_log\n",
    "    \n",
    "    \n",
    "    def make_df_state(self, lx,path_tpx,path_daw):\n",
    "        lx.learn_xgb(path_tpx,path_daw)\n",
    "        state_,chart_ = lx.make_state(path_tpx,path_daw)\n",
    "        \n",
    "        df_state = pd.DataFrame(state_)\n",
    "        df_state['day'] = chart_.index\n",
    "        df_state.reset_index(inplace=True)\n",
    "        df_state.set_index('day',inplace=True)\n",
    "        df_state.drop('index',axis=1,inplace=True)\n",
    "        return df_state, chart_\n",
    "    \n",
    "    \n",
    "    def concat_df(self,path_tpx,path_daw):\n",
    "        df_tpx  = DataFramePreProcessing(path_tpx).load_df()\n",
    "        df_daw = DataFramePreProcessing(path_daw, is_daw=True).load_df()\n",
    "        daw_p = df_daw['dclose'].pct_change()\n",
    "        tpx_p = df_tpx['close'].pct_change()\n",
    "        df_con = pd.concat([daw_p,tpx_p],axis = 1,join='inner').astype(float)\n",
    "        df_con = df_con.rename(columns={'close': 'pclose'})\n",
    "        df_con = pd.concat([df_con,df_tpx['close']],axis = 1,join='inner').astype(float)\n",
    "        return df_con\n",
    "    \n",
    "   \n",
    "    def make_state(self,path_tpx,path_daw,state_,chart_,state='proba', ma_short=5,ma_long=25):\n",
    "        self.state = state\n",
    "        df_con = self.concat_df(path_tpx,path_daw)\n",
    "        \n",
    "        if state=='proba':\n",
    "            return state_,chart_\n",
    "        \n",
    "        \n",
    "        elif state=='change_rate':\n",
    "            \n",
    "            df_pct = df_con.loc[:,['dclose','pclose']].iloc[1:]\n",
    "            state_ = pd.concat([df_pct,state_],axis = 1,join='inner').astype(float)\n",
    "            return state_, chart_\n",
    "        \n",
    "        \n",
    "        elif state=='moving_average':\n",
    "            \n",
    "            state_['ma_short'] = df_con['close'].rolling(ma_short).mean()\n",
    "            state_['ma_long']  = df_con['close'].rolling(ma_long).mean()\n",
    "            state_ = state_.iloc[ma_long:]\n",
    "            return state_, chart_\n",
    "        \n",
    "        \n",
    "        elif state=='std':\n",
    "            \n",
    "            state_['std_short'] = df_con['close'].rolling(ma_short).std()\n",
    "            state_['std_long']  = df_con['close'].rolling(ma_long).std()\n",
    "            state_ = state_.iloc[ma_long:]\n",
    "            return state_, chart_\n",
    "        \n",
    "        \n",
    "        elif state=='all':\n",
    "            \n",
    "            df_con['ma_short'] = df_con['close'].rolling(ma_short).mean()\n",
    "            df_con['ma_long']  = df_con['close'].rolling(ma_long).mean()\n",
    "            df_con['std_short'] = df_con['close'].rolling(ma_short).std()\n",
    "            df_con['std_long']  = df_con['close'].rolling(ma_long).std()\n",
    "            df_con = df_con.loc[:,['dclose','pclose','ma_short','ma_long','std_short','std_long']].iloc[ma_long:]\n",
    "            state_ = pd.concat([df_con,state_],axis = 1,join='inner').astype(float)\n",
    "            return state_, chart_\n",
    "       \n",
    "        \n",
    "        else:\n",
    "            print(\"No such state type.\")\n",
    "            return None, None\n",
    "        \n",
    "        \n",
    "    def predict_tomorrow(self,path_tpx,path_daw):\n",
    "        check_state, check_chart = self.lx.make_check_data(path_tpx,path_daw)\n",
    "        state = self.state\n",
    "        state_, chart_ = self.make_state(path_tpx,path_daw,check_state,check_chart,state=state)\n",
    "        s_check = state_.iloc[-50:]\n",
    "        price_check = chart_.iloc[-50:]\n",
    "        print(\"today :\", s_check.index[-1])\n",
    "        \n",
    "        env_check = Environment(s_check,price_check)\n",
    "        self.QL_agent.play(env_check)\n",
    "\n",
    "        \n",
    "    def return_profit_rate(self, path_tpx,path_daw,wallet=2500):\n",
    "        check_state, check_chart = self.lx.make_check_data(path_tpx,path_daw)\n",
    "#         OK\n",
    "        state = self.state\n",
    "        state_, chart_ = self.make_state(path_tpx,path_daw,check_state,check_chart,state=state)\n",
    "        s_check = state_\n",
    "        price_check = chart_\n",
    "        env_check = Environment(s_check,price_check)\n",
    "        pr_log =  self.QL_agent.return_profit_rate(env_check,wallet)\n",
    "        return pr_log\n",
    "    \n",
    "    "
   ]
  },
  {
   "cell_type": "markdown",
   "id": "9f0bd0bd-dda4-4dfc-9efd-79ec26c7ef69",
   "metadata": {},
   "source": [
    "# SARSA法\n",
    " \\\n",
    "$$\n",
    "gain = reward + \\gamma \\cdot self.Q[n\\_state][n\\_action]\n",
    "$$"
   ]
  },
  {
   "cell_type": "markdown",
   "id": "5515e083-8e7f-4e3b-a153-0831d5161153",
   "metadata": {},
   "source": [
    "# FNAgent class でself.estimate_probがある\n",
    "行動価値でなく, 行動確率を学ばせたい場合"
   ]
  },
  {
   "cell_type": "markdown",
   "id": "97852cff-2386-41f2-9392-cc270f208333",
   "metadata": {},
   "source": [
    "# main"
   ]
  },
  {
   "cell_type": "markdown",
   "id": "58bb5ee8-36ae-4d27-82fe-3968e19905bd",
   "metadata": {},
   "source": [
    "kerasのニューラルネットにしてからなぜかバグる"
   ]
  },
  {
   "cell_type": "markdown",
   "id": "fbd58a0f-dd4f-4219-991c-6fa46e5f431d",
   "metadata": {},
   "source": [
    "2011/11/23 21:00 追記, ちゃんと動いた\\\n",
    "バグは batch_size=1024, epochs=1 とすることで解消\\\n",
    "early_stoppingもちゃんと動いた"
   ]
  },
  {
   "cell_type": "code",
   "execution_count": 8,
   "id": "fc59cb79-6653-4141-bf4e-a118bbb4ad87",
   "metadata": {
    "collapsed": true,
    "jupyter": {
     "outputs_hidden": true
    },
    "tags": []
   },
   "outputs": [
    {
     "name": "stdout",
     "output_type": "stream",
     "text": [
      "env type : tanh\n",
      "---------------------\n",
      "AUC train: 0.7176032045663948\n",
      "AUC test : 0.6818542783402819\n",
      "              precision    recall  f1-score   support\n",
      "\n",
      "           0       0.63      0.47      0.54       219\n",
      "           1       0.63      0.76      0.69       253\n",
      "\n",
      "    accuracy                           0.63       472\n",
      "   macro avg       0.63      0.62      0.62       472\n",
      "weighted avg       0.63      0.63      0.62       472\n",
      "\n",
      "----------------------\n",
      "episode : 0\n",
      "train reward\n"
     ]
    },
    {
     "data": {
      "image/png": "[encoded data removed]",
      "text/plain": [
       "<Figure size 432x288 with 1 Axes>"
      ]
     },
     "metadata": {
      "needs_background": "light"
     },
     "output_type": "display_data"
    },
    {
     "name": "stdout",
     "output_type": "stream",
     "text": [
      "validate data reward\n"
     ]
    },
    {
     "data": {
      "image/png": "[encoded data removed]",
      "text/plain": [
       "<Figure size 432x288 with 1 Axes>"
      ]
     },
     "metadata": {
      "needs_background": "light"
     },
     "output_type": "display_data"
    },
    {
     "name": "stderr",
     "output_type": "stream",
     "text": [
      "No handles with labels found to put in legend.\n"
     ]
    },
    {
     "name": "stdout",
     "output_type": "stream",
     "text": [
      "==================\n",
      "episode : 0\n",
      "Get reward 49.0.\n",
      "Trade count 21.\n",
      "Tomorrow action : Action.STAY\n"
     ]
    },
    {
     "data": {
      "text/plain": [
       "<Figure size 432x288 with 0 Axes>"
      ]
     },
     "metadata": {},
     "output_type": "display_data"
    },
    {
     "data": {
      "image/png": "[encoded data removed]",
      "text/plain": [
       "<Figure size 720x432 with 1 Axes>"
      ]
     },
     "metadata": {
      "needs_background": "light"
     },
     "output_type": "display_data"
    },
    {
     "name": "stdout",
     "output_type": "stream",
     "text": [
      "time : 19.809390783309937\n"
     ]
    }
   ],
   "source": [
    "# 1 episode 19s in mac\n",
    "\n",
    "# lq.show_chart()\n",
    "lq_dict = {}\n",
    "episode_count=1\n",
    "state='change_rate'\n",
    "env_types = ['tanh']\n",
    "start_time = time.time()\n",
    "for env_type in env_types:\n",
    "    for is_sarsa in [True]:\n",
    "        lq = LearnQN()\n",
    "        print(\"env type :\",env_type)\n",
    "        lq.learn_xqn(path_tpx,path_daw,state=state,env_type=env_type,episode_count=episode_count,train_year=2020,test_year=2021,is_sarsa=is_sarsa)\n",
    "        lq_dict[env_type+str(is_sarsa)] = lq\n",
    "        end_time = time.time()\n",
    "print(\"time :\",end_time -start_time)"
   ]
  },
  {
   "cell_type": "code",
   "execution_count": 20,
   "id": "e0f8f785-f7f0-4e8d-b471-3ac69e5fdd36",
   "metadata": {},
   "outputs": [],
   "source": [
    "lq_dict['tanhTrue'].QL_agent.model.summary()"
   ]
  },
  {
   "cell_type": "markdown",
   "id": "49201b5f-ada2-41e9-a550-7a8259867ab2",
   "metadata": {},
   "source": [
    "# milestone"
   ]
  },
  {
   "cell_type": "code",
   "execution_count": 33,
   "id": "172e761a-e914-4cc2-abb8-26886adc5ba5",
   "metadata": {
    "collapsed": true,
    "jupyter": {
     "outputs_hidden": true
    },
    "tags": []
   },
   "outputs": [
    {
     "name": "stdout",
     "output_type": "stream",
     "text": [
      "==========================\n",
      "key : tanhTrue\n"
     ]
    },
    {
     "data": {
      "image/png": "[encoded data removed]",
      "text/plain": [
       "<Figure size 720x432 with 1 Axes>"
      ]
     },
     "metadata": {
      "needs_background": "light"
     },
     "output_type": "display_data"
    },
    {
     "name": "stdout",
     "output_type": "stream",
     "text": [
      "==========================\n",
      "key : tanhFalse\n"
     ]
    },
    {
     "data": {
      "image/png": "[encoded data removed]",
      "text/plain": [
       "<Figure size 720x432 with 1 Axes>"
      ]
     },
     "metadata": {
      "needs_background": "light"
     },
     "output_type": "display_data"
    }
   ],
   "source": [
    "for i, key in enumerate(lq_dict):\n",
    "    print(\"==========================\")\n",
    "    print('key :',key)\n",
    "    pr = lq_dict[key].return_profit_rate(path_tpx_sim,path_daw_sim)\n",
    "    pr = pr[pr.index.year==2021]\n",
    "    easy_plot(pr['eval_reward'])\n",
    "    "
   ]
  },
  {
   "cell_type": "markdown",
   "id": "3c090da0-ee22-4c62-b71e-a4876d9f53a0",
   "metadata": {},
   "source": [
    "# 累積収益率\n",
    "$$\n",
    "累積収益率 = \\frac{累積報酬}{元本}\n",
    "$$"
   ]
  },
  {
   "cell_type": "code",
   "execution_count": 309,
   "id": "c02ae8de-3ba1-4a4f-a372-55cc3c0e2d0f",
   "metadata": {},
   "outputs": [],
   "source": [
    "\n",
    "pr = lq.return_profit_rate(path_tpx_sim,path_daw_sim)\n",
    "pr = pr[pr.index.year==2021]\n",
    "# pr.plot()"
   ]
  },
  {
   "cell_type": "code",
   "execution_count": 291,
   "id": "0017e92b-aac7-4f6d-8244-408ec58a3a9d",
   "metadata": {
    "collapsed": true,
    "jupyter": {
     "outputs_hidden": true
    },
    "tags": []
   },
   "outputs": [
    {
     "name": "stdout",
     "output_type": "stream",
     "text": [
      "reward\n"
     ]
    },
    {
     "ename": "KeyError",
     "evalue": "'ma'",
     "output_type": "error",
     "traceback": [
      "\u001b[0;31m---------------------------------------------------------------------------\u001b[0m",
      "\u001b[0;31mKeyError\u001b[0m                                  Traceback (most recent call last)",
      "\u001b[0;32m/usr/local/lib/python3.9/site-packages/pandas/core/indexes/base.py\u001b[0m in \u001b[0;36mget_loc\u001b[0;34m(self, key, method, tolerance)\u001b[0m\n\u001b[1;32m   3360\u001b[0m             \u001b[0;32mtry\u001b[0m\u001b[0;34m:\u001b[0m\u001b[0;34m\u001b[0m\u001b[0;34m\u001b[0m\u001b[0m\n\u001b[0;32m-> 3361\u001b[0;31m                 \u001b[0;32mreturn\u001b[0m \u001b[0mself\u001b[0m\u001b[0;34m.\u001b[0m\u001b[0m_engine\u001b[0m\u001b[0;34m.\u001b[0m\u001b[0mget_loc\u001b[0m\u001b[0;34m(\u001b[0m\u001b[0mcasted_key\u001b[0m\u001b[0;34m)\u001b[0m\u001b[0;34m\u001b[0m\u001b[0;34m\u001b[0m\u001b[0m\n\u001b[0m\u001b[1;32m   3362\u001b[0m             \u001b[0;32mexcept\u001b[0m \u001b[0mKeyError\u001b[0m \u001b[0;32mas\u001b[0m \u001b[0merr\u001b[0m\u001b[0;34m:\u001b[0m\u001b[0;34m\u001b[0m\u001b[0;34m\u001b[0m\u001b[0m\n",
      "\u001b[0;32m/usr/local/lib/python3.9/site-packages/pandas/_libs/index.pyx\u001b[0m in \u001b[0;36mpandas._libs.index.IndexEngine.get_loc\u001b[0;34m()\u001b[0m\n",
      "\u001b[0;32m/usr/local/lib/python3.9/site-packages/pandas/_libs/index.pyx\u001b[0m in \u001b[0;36mpandas._libs.index.IndexEngine.get_loc\u001b[0;34m()\u001b[0m\n",
      "\u001b[0;32mpandas/_libs/hashtable_class_helper.pxi\u001b[0m in \u001b[0;36mpandas._libs.hashtable.PyObjectHashTable.get_item\u001b[0;34m()\u001b[0m\n",
      "\u001b[0;32mpandas/_libs/hashtable_class_helper.pxi\u001b[0m in \u001b[0;36mpandas._libs.hashtable.PyObjectHashTable.get_item\u001b[0;34m()\u001b[0m\n",
      "\u001b[0;31mKeyError\u001b[0m: 'ma'",
      "\nThe above exception was the direct cause of the following exception:\n",
      "\u001b[0;31mKeyError\u001b[0m                                  Traceback (most recent call last)",
      "\u001b[0;32m<ipython-input-291-b5d6a4b4d5ba>\u001b[0m in \u001b[0;36m<module>\u001b[0;34m\u001b[0m\n\u001b[1;32m      2\u001b[0m \u001b[0mprint\u001b[0m\u001b[0;34m(\u001b[0m\u001b[0;34m\"reward\"\u001b[0m\u001b[0;34m)\u001b[0m\u001b[0;34m\u001b[0m\u001b[0;34m\u001b[0m\u001b[0m\n\u001b[1;32m      3\u001b[0m \u001b[0mreward_dict\u001b[0m \u001b[0;34m=\u001b[0m \u001b[0mmake_plot_data\u001b[0m\u001b[0;34m(\u001b[0m\u001b[0mreward_log\u001b[0m\u001b[0;34m,\u001b[0m\u001b[0mma\u001b[0m\u001b[0;34m=\u001b[0m\u001b[0;36m19\u001b[0m\u001b[0;34m)\u001b[0m\u001b[0;34m\u001b[0m\u001b[0;34m\u001b[0m\u001b[0m\n\u001b[0;32m----> 4\u001b[0;31m \u001b[0mplot\u001b[0m\u001b[0;34m(\u001b[0m\u001b[0mreward_dict\u001b[0m\u001b[0;34m)\u001b[0m\u001b[0;34m\u001b[0m\u001b[0;34m\u001b[0m\u001b[0m\n\u001b[0m",
      "\u001b[0;32m<ipython-input-199-cdd506eadbca>\u001b[0m in \u001b[0;36mplot\u001b[0;34m(g, label)\u001b[0m\n\u001b[1;32m     60\u001b[0m \u001b[0;31m#     type(g) = pd.DataFrame\u001b[0m\u001b[0;34m\u001b[0m\u001b[0;34m\u001b[0m\u001b[0;34m\u001b[0m\u001b[0m\n\u001b[1;32m     61\u001b[0m     \u001b[0mplt\u001b[0m\u001b[0;34m.\u001b[0m\u001b[0msubplots\u001b[0m\u001b[0;34m(\u001b[0m\u001b[0mfigsize\u001b[0m\u001b[0;34m=\u001b[0m\u001b[0;34m(\u001b[0m\u001b[0;36m10\u001b[0m\u001b[0;34m,\u001b[0m \u001b[0;36m6\u001b[0m\u001b[0;34m)\u001b[0m\u001b[0;34m)\u001b[0m\u001b[0;34m\u001b[0m\u001b[0;34m\u001b[0m\u001b[0m\n\u001b[0;32m---> 62\u001b[0;31m     \u001b[0mplt\u001b[0m\u001b[0;34m.\u001b[0m\u001b[0mfill_between\u001b[0m\u001b[0;34m(\u001b[0m\u001b[0mg\u001b[0m\u001b[0;34m.\u001b[0m\u001b[0mindex\u001b[0m\u001b[0;34m,\u001b[0m\u001b[0my1\u001b[0m \u001b[0;34m=\u001b[0m \u001b[0mg\u001b[0m\u001b[0;34m[\u001b[0m\u001b[0;34m'ma'\u001b[0m\u001b[0;34m]\u001b[0m \u001b[0;34m-\u001b[0m \u001b[0mg\u001b[0m\u001b[0;34m[\u001b[0m\u001b[0;34m'std'\u001b[0m\u001b[0;34m]\u001b[0m\u001b[0;34m,\u001b[0m\u001b[0my2\u001b[0m\u001b[0;34m=\u001b[0m\u001b[0mg\u001b[0m\u001b[0;34m[\u001b[0m\u001b[0;34m'ma'\u001b[0m\u001b[0;34m]\u001b[0m\u001b[0;34m+\u001b[0m\u001b[0mg\u001b[0m\u001b[0;34m[\u001b[0m\u001b[0;34m'std'\u001b[0m\u001b[0;34m]\u001b[0m\u001b[0;34m,\u001b[0m\u001b[0malpha\u001b[0m\u001b[0;34m=\u001b[0m\u001b[0;36m0.3\u001b[0m\u001b[0;34m)\u001b[0m\u001b[0;34m\u001b[0m\u001b[0;34m\u001b[0m\u001b[0m\n\u001b[0m\u001b[1;32m     63\u001b[0m     \u001b[0mplt\u001b[0m\u001b[0;34m.\u001b[0m\u001b[0mplot\u001b[0m\u001b[0;34m(\u001b[0m\u001b[0mg\u001b[0m\u001b[0;34m.\u001b[0m\u001b[0mindex\u001b[0m\u001b[0;34m,\u001b[0m\u001b[0mg\u001b[0m\u001b[0;34m[\u001b[0m\u001b[0;34m'ma'\u001b[0m\u001b[0;34m]\u001b[0m\u001b[0;34m,\u001b[0m\u001b[0mlabel\u001b[0m\u001b[0;34m=\u001b[0m\u001b[0mlabel\u001b[0m\u001b[0;34m)\u001b[0m\u001b[0;34m\u001b[0m\u001b[0;34m\u001b[0m\u001b[0m\n\u001b[1;32m     64\u001b[0m     \u001b[0mplt\u001b[0m\u001b[0;34m.\u001b[0m\u001b[0mxlabel\u001b[0m\u001b[0;34m(\u001b[0m\u001b[0;34m'episode'\u001b[0m\u001b[0;34m)\u001b[0m\u001b[0;34m\u001b[0m\u001b[0;34m\u001b[0m\u001b[0m\n",
      "\u001b[0;32m/usr/local/lib/python3.9/site-packages/pandas/core/frame.py\u001b[0m in \u001b[0;36m__getitem__\u001b[0;34m(self, key)\u001b[0m\n\u001b[1;32m   3453\u001b[0m             \u001b[0;32mif\u001b[0m \u001b[0mself\u001b[0m\u001b[0;34m.\u001b[0m\u001b[0mcolumns\u001b[0m\u001b[0;34m.\u001b[0m\u001b[0mnlevels\u001b[0m \u001b[0;34m>\u001b[0m \u001b[0;36m1\u001b[0m\u001b[0;34m:\u001b[0m\u001b[0;34m\u001b[0m\u001b[0;34m\u001b[0m\u001b[0m\n\u001b[1;32m   3454\u001b[0m                 \u001b[0;32mreturn\u001b[0m \u001b[0mself\u001b[0m\u001b[0;34m.\u001b[0m\u001b[0m_getitem_multilevel\u001b[0m\u001b[0;34m(\u001b[0m\u001b[0mkey\u001b[0m\u001b[0;34m)\u001b[0m\u001b[0;34m\u001b[0m\u001b[0;34m\u001b[0m\u001b[0m\n\u001b[0;32m-> 3455\u001b[0;31m             \u001b[0mindexer\u001b[0m \u001b[0;34m=\u001b[0m \u001b[0mself\u001b[0m\u001b[0;34m.\u001b[0m\u001b[0mcolumns\u001b[0m\u001b[0;34m.\u001b[0m\u001b[0mget_loc\u001b[0m\u001b[0;34m(\u001b[0m\u001b[0mkey\u001b[0m\u001b[0;34m)\u001b[0m\u001b[0;34m\u001b[0m\u001b[0;34m\u001b[0m\u001b[0m\n\u001b[0m\u001b[1;32m   3456\u001b[0m             \u001b[0;32mif\u001b[0m \u001b[0mis_integer\u001b[0m\u001b[0;34m(\u001b[0m\u001b[0mindexer\u001b[0m\u001b[0;34m)\u001b[0m\u001b[0;34m:\u001b[0m\u001b[0;34m\u001b[0m\u001b[0;34m\u001b[0m\u001b[0m\n\u001b[1;32m   3457\u001b[0m                 \u001b[0mindexer\u001b[0m \u001b[0;34m=\u001b[0m \u001b[0;34m[\u001b[0m\u001b[0mindexer\u001b[0m\u001b[0;34m]\u001b[0m\u001b[0;34m\u001b[0m\u001b[0;34m\u001b[0m\u001b[0m\n",
      "\u001b[0;32m/usr/local/lib/python3.9/site-packages/pandas/core/indexes/base.py\u001b[0m in \u001b[0;36mget_loc\u001b[0;34m(self, key, method, tolerance)\u001b[0m\n\u001b[1;32m   3361\u001b[0m                 \u001b[0;32mreturn\u001b[0m \u001b[0mself\u001b[0m\u001b[0;34m.\u001b[0m\u001b[0m_engine\u001b[0m\u001b[0;34m.\u001b[0m\u001b[0mget_loc\u001b[0m\u001b[0;34m(\u001b[0m\u001b[0mcasted_key\u001b[0m\u001b[0;34m)\u001b[0m\u001b[0;34m\u001b[0m\u001b[0;34m\u001b[0m\u001b[0m\n\u001b[1;32m   3362\u001b[0m             \u001b[0;32mexcept\u001b[0m \u001b[0mKeyError\u001b[0m \u001b[0;32mas\u001b[0m \u001b[0merr\u001b[0m\u001b[0;34m:\u001b[0m\u001b[0;34m\u001b[0m\u001b[0;34m\u001b[0m\u001b[0m\n\u001b[0;32m-> 3363\u001b[0;31m                 \u001b[0;32mraise\u001b[0m \u001b[0mKeyError\u001b[0m\u001b[0;34m(\u001b[0m\u001b[0mkey\u001b[0m\u001b[0;34m)\u001b[0m \u001b[0;32mfrom\u001b[0m \u001b[0merr\u001b[0m\u001b[0;34m\u001b[0m\u001b[0;34m\u001b[0m\u001b[0m\n\u001b[0m\u001b[1;32m   3364\u001b[0m \u001b[0;34m\u001b[0m\u001b[0m\n\u001b[1;32m   3365\u001b[0m         \u001b[0;32mif\u001b[0m \u001b[0mis_scalar\u001b[0m\u001b[0;34m(\u001b[0m\u001b[0mkey\u001b[0m\u001b[0;34m)\u001b[0m \u001b[0;32mand\u001b[0m \u001b[0misna\u001b[0m\u001b[0;34m(\u001b[0m\u001b[0mkey\u001b[0m\u001b[0;34m)\u001b[0m \u001b[0;32mand\u001b[0m \u001b[0;32mnot\u001b[0m \u001b[0mself\u001b[0m\u001b[0;34m.\u001b[0m\u001b[0mhasnans\u001b[0m\u001b[0;34m:\u001b[0m\u001b[0;34m\u001b[0m\u001b[0;34m\u001b[0m\u001b[0m\n",
      "\u001b[0;31mKeyError\u001b[0m: 'ma'"
     ]
    },
    {
     "data": {
      "image/png": "[encoded data removed]",
      "text/plain": [
       "<Figure size 720x432 with 1 Axes>"
      ]
     },
     "metadata": {
      "needs_background": "light"
     },
     "output_type": "display_data"
    }
   ],
   "source": [
    "reward_log,test_reward_log = lq.return_reward_log()\n",
    "print(\"reward\")\n",
    "reward_dict = make_plot_data(reward_log,ma=19)\n",
    "plot(reward_dict)\n"
   ]
  },
  {
   "cell_type": "code",
   "execution_count": 205,
   "id": "8274287c-18c4-411f-bffa-3d2e529bd4d4",
   "metadata": {},
   "outputs": [
    {
     "name": "stdout",
     "output_type": "stream",
     "text": [
      "test_reward\n"
     ]
    },
    {
     "data": {
      "image/png": "[encoded data removed]",
      "text/plain": [
       "<Figure size 720x432 with 1 Axes>"
      ]
     },
     "metadata": {
      "needs_background": "light"
     },
     "output_type": "display_data"
    }
   ],
   "source": [
    "print(\"test_reward\")\n",
    "test_reward_dict = make_plot_data(test_reward_log,ma=19)\n",
    "plot(test_reward_dict)"
   ]
  },
  {
   "cell_type": "markdown",
   "id": "12b46fc2-4689-4711-a7d3-9615a05ba12d",
   "metadata": {},
   "source": [
    "# Preict tomorrow"
   ]
  },
  {
   "cell_type": "code",
   "execution_count": 31,
   "id": "7098170f-fc24-422d-ac90-d076d33be9f6",
   "metadata": {
    "tags": []
   },
   "outputs": [
    {
     "name": "stderr",
     "output_type": "stream",
     "text": [
      "No handles with labels found to put in legend.\n"
     ]
    },
    {
     "name": "stdout",
     "output_type": "stream",
     "text": [
      "today : 2021-11-18 00:00:00\n",
      "==================\n",
      "episode : 0\n",
      "Get reward -5.0.\n",
      "Trade count 6.\n",
      "Tomorrow action : Action.BUY\n"
     ]
    },
    {
     "data": {
      "text/plain": [
       "<Figure size 432x288 with 0 Axes>"
      ]
     },
     "metadata": {},
     "output_type": "display_data"
    },
    {
     "data": {
      "image/png": "[encoded data removed]",
      "text/plain": [
       "<Figure size 720x432 with 1 Axes>"
      ]
     },
     "metadata": {
      "needs_background": "light"
     },
     "output_type": "display_data"
    }
   ],
   "source": [
    "predict_tomorrow(lq_dict['tanhFalse'],folder_name='TOPIX')"
   ]
  },
  {
   "cell_type": "markdown",
   "id": "98e9eab1-bd00-4215-93dc-b9e6e0635f4a",
   "metadata": {},
   "source": [
    "# save model"
   ]
  },
  {
   "cell_type": "code",
   "execution_count": 135,
   "id": "4b30a953-b8f1-4e1b-9b4e-3e1a2b42d400",
   "metadata": {},
   "outputs": [],
   "source": [
    "save_path =  '/Users/rince/Desktop/Sotsuron/code/model/RL/Qagent/hoge'\n",
    "# lq.save(save_path)"
   ]
  },
  {
   "cell_type": "markdown",
   "id": "545680eb-468d-46d2-b3ad-fc942b3437bc",
   "metadata": {},
   "source": [
    "# load model"
   ]
  },
  {
   "cell_type": "code",
   "execution_count": 136,
   "id": "6e323ff2-f947-4133-a8ff-f100dcd048c1",
   "metadata": {
    "collapsed": true,
    "jupyter": {
     "outputs_hidden": true
    },
    "tags": []
   },
   "outputs": [
    {
     "name": "stdout",
     "output_type": "stream",
     "text": [
      "---------------------\n",
      "AUC train: 0.860577203982112\n",
      "AUC test : 0.6767285722020684\n",
      "              precision    recall  f1-score   support\n",
      "\n",
      "           0       0.60      0.60      0.60       219\n",
      "           1       0.65      0.65      0.65       253\n",
      "\n",
      "    accuracy                           0.63       472\n",
      "   macro avg       0.63      0.63      0.63       472\n",
      "weighted avg       0.63      0.63      0.63       472\n",
      "\n"
     ]
    },
    {
     "data": {
      "image/png": "[encoded data removed]",
      "text/plain": [
       "<Figure size 432x288 with 1 Axes>"
      ]
     },
     "metadata": {
      "needs_background": "light"
     },
     "output_type": "display_data"
    }
   ],
   "source": [
    "lq_copy = LearnQN.load(save_path+'hoge.pickle')"
   ]
  },
  {
   "cell_type": "markdown",
   "id": "7a424cde-1ff9-4a00-b522-b20432b61453",
   "metadata": {},
   "source": [
    "# 今後の方針"
   ]
  },
  {
   "cell_type": "markdown",
   "id": "00fd7edd-c025-4203-a84b-f429f4339ae1",
   "metadata": {},
   "source": [
    "1. モデル別収益率返却関数の実装\n",
    "2. シャープレシオ関数の実装\n",
    "SharpRatio = (PrfitRate - const)\\(Risk)\n",
    "3. early_stopping機能の実装"
   ]
  },
  {
   "cell_type": "markdown",
   "id": "961cec2d-e383-4540-8e7e-224f93c132a4",
   "metadata": {},
   "source": [
    "# 累積収益率　比較"
   ]
  },
  {
   "cell_type": "markdown",
   "id": "0b3b32f5-59d6-4664-9f1a-2f4101c27643",
   "metadata": {},
   "source": [
    "# path sim"
   ]
  },
  {
   "cell_type": "code",
   "execution_count": 21,
   "id": "4eb5457c-35a2-437c-90e6-2f4d6a2acc34",
   "metadata": {},
   "outputs": [],
   "source": [
    "path_tpx_sim = '/Users/rince/Desktop/StockPriceData/TOPIX/TOPIX_20211201.csv'\n",
    "path_daw_sim = '/Users/rince/Desktop/StockPriceData/DAW/DAW_20211201.csv'"
   ]
  },
  {
   "cell_type": "markdown",
   "id": "1da66f90-a24a-4624-bef4-bf601a185b6a",
   "metadata": {},
   "source": [
    "# Technical"
   ]
  },
  {
   "cell_type": "code",
   "execution_count": 35,
   "id": "34d55094-411b-4e6c-be84-f4161827bbff",
   "metadata": {},
   "outputs": [],
   "source": [
    "df_tpx = DataFramePreProcessing(path_tpx_sim).load_df()"
   ]
  },
  {
   "cell_type": "code",
   "execution_count": 62,
   "id": "1aafc793-49f8-4b8c-9e6c-e2de9c7c7fd3",
   "metadata": {
    "tags": []
   },
   "outputs": [],
   "source": [
    "ts = TechnicalSimulation(hold_day=100,year=2021)\n",
    "pr_log_t =  ts.return_profit_rate(path_tpx_sim)"
   ]
  },
  {
   "cell_type": "code",
   "execution_count": 63,
   "id": "4befb17c-42b6-436d-88f1-910b426a6cdd",
   "metadata": {},
   "outputs": [],
   "source": [
    "\n",
    "easy_plot(pr_log_t[pr_log_t.index.year==2021]['eval_reward'])\n"
   ]
  },
  {
   "cell_type": "markdown",
   "id": "d081811b-7d33-41fe-b92b-5416ebb97058",
   "metadata": {},
   "source": [
    "# TOPIX"
   ]
  },
  {
   "cell_type": "code",
   "execution_count": 64,
   "id": "b9af6c84-13f6-4bd0-ac8a-04aa5518720e",
   "metadata": {},
   "outputs": [],
   "source": [
    "lx = LearnXGB()\n",
    "df_con = lx.make_df_con(path_tpx_sim,path_daw_sim)\n",
    "df_con = df_con[df_con.index.year == 2021]\n",
    "df_con['close']\n",
    "pr_log_tpx = pd.DataFrame()\n",
    "pr_log_tpx.index = df_con.index\n",
    "wallet = 2500\n",
    "pr_log_tpx['reward'] = df_con['close'].map(lambda x:x - df_con['close'].iloc[0])\n",
    "pr_log_tpx['reward'] = pr_log_tpx['reward'].map(lambda x:x/wallet)\n",
    "easy_plot(pr_log_tpx,xlabel='day')"
   ]
  },
  {
   "cell_type": "code",
   "execution_count": 41,
   "id": "4c160c45-aafc-45a2-965d-1ef2ed5297bc",
   "metadata": {},
   "outputs": [
    {
     "data": {
      "text/plain": [
       "reward         0.0476\n",
       "eval_reward    0.0476\n",
       "Name: 2021-11-30 00:00:00, dtype: float64"
      ]
     },
     "execution_count": 41,
     "metadata": {},
     "output_type": "execute_result"
    }
   ],
   "source": [
    "pr_log_t.iloc[-2]"
   ]
  },
  {
   "cell_type": "markdown",
   "id": "b9b12a1b-13d5-43f1-bf96-85ed946ea0c6",
   "metadata": {},
   "source": [
    "# テスト"
   ]
  },
  {
   "cell_type": "code",
   "execution_count": 236,
   "id": "2c5313e6-c48d-45cc-8fbc-cb553d1bcdb9",
   "metadata": {
    "tags": []
   },
   "outputs": [
    {
     "name": "stdout",
     "output_type": "stream",
     "text": [
      "---------------------\n",
      "AUC train: 0.9267540942992749\n",
      "AUC test : 0.6315190397350994\n",
      "              precision    recall  f1-score   support\n",
      "\n",
      "           0       0.62      0.60      0.61       151\n",
      "           1       0.55      0.57      0.56       128\n",
      "\n",
      "    accuracy                           0.59       279\n",
      "   macro avg       0.59      0.59      0.59       279\n",
      "weighted avg       0.59      0.59      0.59       279\n",
      "\n"
     ]
    },
    {
     "data": {
      "image/png": "[encoded data removed]",
      "text/plain": [
       "<Figure size 432x288 with 1 Axes>"
      ]
     },
     "metadata": {
      "needs_background": "light"
     },
     "output_type": "display_data"
    }
   ],
   "source": [
    "path_bea_sim = '/Users/rince/Desktop/StockPriceData/Bear/*.csv'\n",
    "df_bea = DataFramePreProcessing(path_bear).load_df()\n",
    "df_daw = DataFramePreProcessing(path_daw,is_daw=True).load_df()\n",
    "daw_p = df_daw.pct_change()\n",
    "df_con = pd.concat([daw_p,df_bea],axis = 1,join='inner').astype(float)\n",
    "df_tmp = df_con.drop(df_con[ df_con['volume']==0].index)\n",
    "\n",
    "x_train, y_train, x_test, y_test = MakeTrainData(df_tmp,test_rate=0.9).make_data()\n",
    "X = x_train\n",
    "Y = y_train\n",
    "lx = LearnXGB()\n",
    "\n",
    "lx.learn_xgb(path_bear,path_daw)\n",
    "xgb_bear = lx.model\n",
    "x_, y_ = sl.make_check_data(path_bea_sim,path_daw_sim)"
   ]
  },
  {
   "cell_type": "code",
   "execution_count": 237,
   "id": "d900db31-d121-4652-ab6e-78ff0738288b",
   "metadata": {},
   "outputs": [],
   "source": [
    "sl = XGBSimulation(xgb_bear,alpha=0.5)"
   ]
  },
  {
   "cell_type": "code",
   "execution_count": 244,
   "id": "ccc1e038-b481-4ec9-b00a-4cb540790d22",
   "metadata": {
    "tags": []
   },
   "outputs": [
    {
     "name": "stderr",
     "output_type": "stream",
     "text": [
      "No handles with labels found to put in legend.\n"
     ]
    },
    {
     "name": "stdout",
     "output_type": "stream",
     "text": [
      "Total profit :-2139.0\n",
      "Trade count  :40\n",
      "Max profit   :910.0\n",
      "Min profit   :-1145.0\n",
      "Mean profit  :-53.475\n",
      "      score  Up precision  Down precision  Up recall  Down recall    num\n",
      "0  0.526012      0.467391        0.592593   0.565789     0.494845  173.0\n",
      "\n"
     ]
    },
    {
     "data": {
      "text/plain": [
       "<Figure size 432x288 with 0 Axes>"
      ]
     },
     "metadata": {},
     "output_type": "display_data"
    },
    {
     "data": {
      "image/png": "[encoded data removed]",
      "text/plain": [
       "<Figure size 720x432 with 1 Axes>"
      ]
     },
     "metadata": {
      "needs_background": "light"
     },
     "output_type": "display_data"
    }
   ],
   "source": [
    "pr_bear = sl.return_profit_rate(path_bea_sim,path_daw_sim,wallet=2500,strategy='normal')"
   ]
  },
  {
   "cell_type": "code",
   "execution_count": 65,
   "id": "89c45f2d-ca22-43b2-b41c-c84cff9e7ec8",
   "metadata": {
    "tags": []
   },
   "outputs": [],
   "source": [
    "pr_bear = pr_bear[pr_bear.index.year==2021]\n",
    "\n",
    "delta1 = pr_bear['reward'].iloc[0]\n",
    "delta2 = pr_bear['eval_reward'].iloc[0]\n",
    "pr_bear['reward'] = pr_bear['reward'].map(lambda x: x-delta1)\n",
    "pr_bear['eval_reward'] = pr_bear['eval_reward'].map(lambda x:x-delta2)\n",
    "pr_bear"
   ]
  },
  {
   "cell_type": "markdown",
   "id": "d8b0effc-ba5d-4dae-be37-6d6fa05cab0c",
   "metadata": {},
   "source": [
    "normal"
   ]
  },
  {
   "cell_type": "code",
   "execution_count": 245,
   "id": "96bb7e98-43cd-47d3-b83c-2e794e2fb9c0",
   "metadata": {},
   "outputs": [
    {
     "data": {
      "image/png": "[encoded data removed]",
      "text/plain": [
       "<Figure size 720x432 with 1 Axes>"
      ]
     },
     "metadata": {
      "needs_background": "light"
     },
     "output_type": "display_data"
    }
   ],
   "source": [
    "plt.subplots(figsize=(10, 6))\n",
    "plt.plot(pr_bear['eval_reward'],label='daw bear')\n",
    "plt.legend()\n",
    "plt.grid(True)\n",
    "plt.show()"
   ]
  },
  {
   "cell_type": "markdown",
   "id": "ff8b1697-7765-4215-893c-703d5c5935b5",
   "metadata": {},
   "source": [
    "reverse"
   ]
  },
  {
   "cell_type": "code",
   "execution_count": 243,
   "id": "c4424792-fd5a-4802-bd11-714102162ab1",
   "metadata": {},
   "outputs": [
    {
     "data": {
      "image/png": "[encoded data removed]",
      "text/plain": [
       "<Figure size 720x432 with 1 Axes>"
      ]
     },
     "metadata": {
      "needs_background": "light"
     },
     "output_type": "display_data"
    }
   ],
   "source": [
    "plt.subplots(figsize=(10, 6))\n",
    "plt.plot(pr_bear['eval_reward'],label='daw bear')\n",
    "plt.legend()\n",
    "plt.grid(True)\n",
    "plt.show()"
   ]
  },
  {
   "cell_type": "markdown",
   "id": "d802933f-cd7d-47d1-b15c-c0158d146a3c",
   "metadata": {},
   "source": [
    "# XGB モデルの分散と平均"
   ]
  },
  {
   "cell_type": "markdown",
   "id": "32f02d55-403f-443b-95ef-809b1feaf159",
   "metadata": {},
   "source": [
    "# モデル作成"
   ]
  },
  {
   "cell_type": "code",
   "execution_count": 66,
   "id": "c62a3456-5e50-49cb-9756-0f0d48ef1ffc",
   "metadata": {
    "tags": []
   },
   "outputs": [],
   "source": [
    "lx = LearnXGB()\n",
    "x_train, y_train, x_test, y_test = lx.make_xgb_data(path_tpx,path_daw,test_rate=0.9)\n",
    "X = x_train\n",
    "Y = y_train\n",
    "\n",
    "# モデル作成\n",
    "xgb_dict = {}\n",
    "for i in range(10):\n",
    "    x_train, x_test, y_train, y_test = train_test_split(X, Y, test_size=0.1) \n",
    "    xgb_dict[i] = xgb_pred(x_train,y_train,x_test,y_test)"
   ]
  },
  {
   "cell_type": "markdown",
   "id": "e9f30613-fbe0-444a-bc6c-f436c398da8f",
   "metadata": {},
   "source": [
    "# normal"
   ]
  },
  {
   "cell_type": "code",
   "execution_count": 67,
   "id": "3e1b831b-0b92-45fa-ae77-9504bf9fd887",
   "metadata": {
    "tags": []
   },
   "outputs": [],
   "source": [
    "pr_log_xn = {}\n",
    "pr_log = pd.DataFrame()\n",
    "g_dict = {}\n",
    "for alpha in [0.5,0.6,0.7,0.8,0.9]:\n",
    "    for i,key in enumerate(xgb_dict):\n",
    "        xgb_model = xgb_dict[i]\n",
    "        sl = XGBSimulation(xgb_model,alpha=alpha)\n",
    "        pr_tmp = sl.return_profit_rate(path_tpx_sim,path_daw_sim,wallet=2500,strategy='normal')\n",
    "        pr_tmp = pr_tmp[pr_tmp.index.year==2021]\n",
    "        delta2 = pr_tmp['eval_reward'].iloc[0]\n",
    "        pr_tmp['eval_reward'] = pr_tmp['eval_reward'].map(lambda x:x - delta2)\n",
    "        pr_log[str(i)] = pr_tmp['eval_reward']\n",
    "        pr_log_xn[key] = pr_tmp\n",
    "    \n",
    "    \n",
    "    g = pd.DataFrame()\n",
    "    g['ma'] = pr_log.mean(axis=1)\n",
    "    g['std'] =  pr_log.std(axis=1)\n",
    "    g_dict[alpha] = g"
   ]
  },
  {
   "cell_type": "code",
   "execution_count": 49,
   "id": "3471bf52-ab9b-4765-8d03-a2606cf366ff",
   "metadata": {},
   "outputs": [
    {
     "name": "stdout",
     "output_type": "stream",
     "text": [
      "ma     0.064240\n",
      "std    0.030571\n",
      "Name: 2021-11-29 00:00:00, dtype: float64\n",
      "ma     0.047080\n",
      "std    0.025563\n",
      "Name: 2021-11-29 00:00:00, dtype: float64\n",
      "ma     0.055160\n",
      "std    0.025331\n",
      "Name: 2021-11-29 00:00:00, dtype: float64\n",
      "ma     0.013160\n",
      "std    0.037584\n",
      "Name: 2021-11-29 00:00:00, dtype: float64\n",
      "ma     0.013400\n",
      "std    0.015532\n",
      "Name: 2021-11-29 00:00:00, dtype: float64\n"
     ]
    }
   ],
   "source": [
    "for alpha in [0.5,0.6,.7,0.8,0.9]:\n",
    "    print(g_dict[alpha].iloc[-1])"
   ]
  },
  {
   "cell_type": "code",
   "execution_count": 28,
   "id": "481435ea-296f-4137-99fe-a910720e14a9",
   "metadata": {
    "tags": []
   },
   "outputs": [
    {
     "data": {
      "image/png": "[encoded data removed]",
      "text/plain": [
       "<Figure size 720x432 with 1 Axes>"
      ]
     },
     "metadata": {
      "needs_background": "light"
     },
     "output_type": "display_data"
    }
   ],
   "source": [
    "plot(g_dict[0.9])"
   ]
  },
  {
   "cell_type": "markdown",
   "id": "6e18d39b-6411-4e71-b3bf-35fcae61957f",
   "metadata": {},
   "source": [
    "xgb reverse"
   ]
  },
  {
   "cell_type": "code",
   "execution_count": 68,
   "id": "2f6f124e-a27b-4455-bfe9-846125992c81",
   "metadata": {
    "tags": []
   },
   "outputs": [],
   "source": [
    "pr_log_xr = {}\n",
    "pr_log = pd.DataFrame()\n",
    "gr_dict = {}\n",
    "for alpha in [0.5,0.6,0.7,0.8,0.9]:\n",
    "    for i,key in enumerate(xgb_dict):\n",
    "        xgb_model = xgb_dict[i]\n",
    "        sl = XGBSimulation(xgb_model,alpha=alpha)\n",
    "        pr_tmp = sl.return_profit_rate(path_tpx_sim,path_daw_sim,wallet=2500,strategy='reverse')\n",
    "        pr_tmp = pr_tmp[pr_tmp.index.year==2021]\n",
    "        delta2 = pr_tmp['eval_reward'].iloc[0]\n",
    "        pr_tmp['eval_reward'] = pr_tmp['eval_reward'].map(lambda x:x - delta2)\n",
    "        pr_log[str(i)] = pr_tmp['eval_reward']\n",
    "        pr_log_xn[key] = pr_tmp\n",
    "    \n",
    "    \n",
    "    g = pd.DataFrame()\n",
    "    g['ma'] = pr_log.mean(axis=1)\n",
    "    g['std'] =  pr_log.std(axis=1)\n",
    "    gr_dict[alpha] = g"
   ]
  },
  {
   "cell_type": "code",
   "execution_count": 47,
   "id": "31699df2-4ee2-443d-a0d1-e5f441e8e7c0",
   "metadata": {},
   "outputs": [
    {
     "name": "stdout",
     "output_type": "stream",
     "text": [
      "ma     0.015600\n",
      "std    0.029537\n",
      "Name: 2021-11-29 00:00:00, dtype: float64\n",
      "ma     0.02688\n",
      "std    0.02329\n",
      "Name: 2021-11-29 00:00:00, dtype: float64\n",
      "ma     0.023200\n",
      "std    0.021936\n",
      "Name: 2021-11-29 00:00:00, dtype: float64\n",
      "ma     0.067240\n",
      "std    0.035322\n",
      "Name: 2021-11-29 00:00:00, dtype: float64\n",
      "ma     0.067400\n",
      "std    0.015532\n",
      "Name: 2021-11-29 00:00:00, dtype: float64\n"
     ]
    }
   ],
   "source": [
    "for i in [0.5,0.6,0.7,0.8,0.9]:\n",
    "    print(gr_dict[i].iloc[-1])"
   ]
  },
  {
   "cell_type": "code",
   "execution_count": 34,
   "id": "3bee9986-c048-476f-984b-f107ece0cf6e",
   "metadata": {},
   "outputs": [
    {
     "data": {
      "image/png": "[encoded data removed]",
      "text/plain": [
       "<Figure size 720x432 with 1 Axes>"
      ]
     },
     "metadata": {
      "needs_background": "light"
     },
     "output_type": "display_data"
    }
   ],
   "source": [
    "plot(gr_dict[0.9])"
   ]
  },
  {
   "cell_type": "markdown",
   "id": "28680709-06ba-4286-9bc9-56c6533a8d3d",
   "metadata": {},
   "source": [
    "# XGB"
   ]
  },
  {
   "cell_type": "code",
   "execution_count": 101,
   "id": "1735c0e2-6cbe-44f5-ac9e-45c7db0589b0",
   "metadata": {},
   "outputs": [
    {
     "name": "stdout",
     "output_type": "stream",
     "text": [
      "---------------------\n",
      "AUC train: 0.860577203982112\n",
      "AUC test : 0.6767285722020684\n",
      "              precision    recall  f1-score   support\n",
      "\n",
      "           0       0.60      0.60      0.60       219\n",
      "           1       0.65      0.65      0.65       253\n",
      "\n",
      "    accuracy                           0.63       472\n",
      "   macro avg       0.63      0.63      0.63       472\n",
      "weighted avg       0.63      0.63      0.63       472\n",
      "\n"
     ]
    },
    {
     "data": {
      "image/png": "[encoded data removed]",
      "text/plain": [
       "<Figure size 432x288 with 1 Axes>"
      ]
     },
     "metadata": {
      "needs_background": "light"
     },
     "output_type": "display_data"
    }
   ],
   "source": [
    "lx = LearnXGB()\n",
    "lx.learn_xgb(path_tpx,path_daw)"
   ]
  },
  {
   "cell_type": "code",
   "execution_count": 69,
   "id": "f4e8cfea-ea07-4347-8b97-ed795b30e035",
   "metadata": {
    "tags": []
   },
   "outputs": [],
   "source": [
    "pr_log_xn = {}\n",
    "for alpha in [0.5,0.55,0.6,0.65,0.7,0.75,0.8,0.85,0.9,0.95]:\n",
    "    print(\"*************************\")\n",
    "    print('alpha :',alpha)\n",
    "    sl = XGBSimulation(lx.model,alpha=alpha)\n",
    "#     sl.simulate(path_tpx, path_daw, is_validate=False,strategy='normal')\n",
    "    pr_tmp = sl.return_profit_rate(path_tpx_sim,path_daw_sim,wallet=2500,strategy='normal')\n",
    "    pr_tmp = pr_tmp[pr_tmp.index.year==2021]\n",
    "    delta = pr_tmp['reward'].iloc[0]\n",
    "    pr_tmp['reward'] = pr_tmp['reward'].map(lambda x:x - delta)\n",
    "    delta2 = pr_tmp['eval_reward'].iloc[0]\n",
    "    pr_tmp['eval_reward'] = pr_tmp['eval_reward'].map(lambda x:x - delta2)\n",
    "    pr_log_xn[alpha] = pr_tmp"
   ]
  },
  {
   "cell_type": "code",
   "execution_count": 70,
   "id": "9993e9b5-5aad-4cd8-8903-8b8cb135d42c",
   "metadata": {},
   "outputs": [],
   "source": [
    "plt.subplots(figsize=(10, 6))\n",
    "plt.plot(pr_log_xn[0.5]['eval_reward'],label='normal_0.5')\n",
    "plt.plot(pr_log_xn[0.55]['eval_reward'],label='normal_0.55')\n",
    "plt.plot(pr_log_xn[0.6]['eval_reward'],label='normal_0.6')\n",
    "plt.plot(pr_log_xn[0.65]['eval_reward'],label='normal_0.65')\n",
    "plt.plot(pr_log_xn[0.7]['eval_reward'],label='normal_0.7')\n",
    "plt.plot(pr_log_xn[0.75]['eval_reward'],label='normal_0.75')\n",
    "plt.plot(pr_log_xn[0.8]['eval_reward'],label='normal_0.8')\n",
    "plt.plot(pr_log_xn[0.85]['eval_reward'],label='normal_0.85')\n",
    "plt.plot(pr_log_xn[0.9]['eval_reward'],label='normal_0.9')\n",
    "plt.plot(pr_log_xn[0.95]['eval_reward'],label='normal_0.95')\n",
    "plt.legend()\n",
    "plt.grid(True)\n",
    "plt.show()"
   ]
  },
  {
   "cell_type": "markdown",
   "id": "c708edf7-14ba-4da1-9073-f0c17a15c1f9",
   "metadata": {},
   "source": [
    "# XGB 逆張り"
   ]
  },
  {
   "cell_type": "code",
   "execution_count": 71,
   "id": "8bf1c894-5552-47d9-a3dc-9d0dc09aa0cb",
   "metadata": {
    "tags": []
   },
   "outputs": [],
   "source": [
    "pr_log_xr = {}\n",
    "for alpha in [0.5,0.55,0.6,0.65,0.7,0.75,0.8,0.85,0.9,0.95]:\n",
    "    print(\"*************************\")\n",
    "    print('alpha :',alpha)\n",
    "    sl = XGBSimulation(lx.model,alpha=alpha)\n",
    "    sl.simulate(path_tpx, path_daw, is_validate=False,strategy='reverse')\n",
    "    pr_tmp = sl.return_profit_rate(path_tpx_sim,path_daw_sim,wallet=2500,strategy='reverse')\n",
    "    pr_tmp = pr_tmp[pr_tmp.index.year==2021]\n",
    "    pr_tmp['reward'] = pr_tmp['reward'].map(lambda x:x - pr_tmp['reward'].iloc[0])\n",
    "    pr_tmp['eval_reward'] = pr_tmp['eval_reward'].map(lambda x:x - pr_tmp['eval_reward'].iloc[0])\n",
    "    pr_log_xr[alpha] = pr_tmp"
   ]
  },
  {
   "cell_type": "code",
   "execution_count": 72,
   "id": "60f061c0-fa5f-4ec4-beb2-b1c51ac612e7",
   "metadata": {},
   "outputs": [],
   "source": [
    "plt.subplots(figsize=(10, 6))\n",
    "plt.plot(pr_log_xr[0.5]['eval_reward'],label='reverse_0.5')\n",
    "plt.plot(pr_log_xr[0.6]['eval_reward'],label='reverse_0.6')\n",
    "plt.plot(pr_log_xr[0.7]['eval_reward'],label='reverse_0.7')\n",
    "plt.plot(pr_log_xr[0.8]['eval_reward'],label='reverse_0.8')\n",
    "plt.plot(pr_log_xr[0.9]['eval_reward'],label='reverse_0.9')\n",
    "plt.legend()\n",
    "plt.grid(True)\n",
    "plt.show()"
   ]
  },
  {
   "cell_type": "markdown",
   "id": "71ce987a-8b73-4d37-a8da-d679a5abdc98",
   "metadata": {},
   "source": [
    "# 全手法比較"
   ]
  },
  {
   "cell_type": "code",
   "execution_count": 59,
   "id": "97e6afda-177c-43e8-a100-60e5182bd893",
   "metadata": {},
   "outputs": [
    {
     "data": {
      "text/plain": [
       "reward    0.0576\n",
       "Name: 2021-11-30 00:00:00, dtype: float64"
      ]
     },
     "execution_count": 59,
     "metadata": {},
     "output_type": "execute_result"
    }
   ],
   "source": [
    "pr_log_tpx.iloc[-1]"
   ]
  },
  {
   "cell_type": "code",
   "execution_count": 73,
   "id": "4d0f6dc0-c615-41be-a038-827925246bea",
   "metadata": {},
   "outputs": [],
   "source": [
    "plt.subplots(figsize=(10, 6))\n",
    "plt.plot(pr_log_tpx['reward'],label='TOPIX')\n",
    "plt.plot(pr_log_t[pr_log_t.index.year==2021]['eval_reward'].iloc[:-1],label='Technical')\n",
    "plt.plot(g_dict[0.5]['ma'],label='mean_normal_0.5')\n",
    "plt.plot(gr_dict[0.8]['ma'],label='mean_reverse_0.8')\n",
    "plt.legend()\n",
    "plt.grid(True)\n",
    "plt.show()"
   ]
  },
  {
   "cell_type": "markdown",
   "id": "de3ac435-cf33-4bc5-964a-9f37f0eee348",
   "metadata": {},
   "source": [
    "# SharpRatio"
   ]
  },
  {
   "cell_type": "code",
   "execution_count": 60,
   "id": "a1592e57-4394-4cc3-8797-7ada228d159f",
   "metadata": {},
   "outputs": [
    {
     "name": "stdout",
     "output_type": "stream",
     "text": [
      "TOPIX\n",
      "2.5977346526456038\n",
      "Technical\n",
      "1.3177760486373382\n",
      "XGB normal\n",
      "2.826618014443505\n",
      "XGB reverse\n",
      "2.214837044820457\n"
     ]
    },
    {
     "data": {
      "text/plain": [
       "2.214837044820457"
      ]
     },
     "execution_count": 60,
     "metadata": {},
     "output_type": "execute_result"
    }
   ],
   "source": [
    "print(\"TOPIX\")\n",
    "calc_sharp_ratio(pr_log_tpx['reward'],Rb = 10**(-5))\n",
    "print(\"Technical\")\n",
    "calc_sharp_ratio(pr_log_t[pr_log_t.index.year==2021]['eval_reward'].iloc[:-1],Rb = 10**(-5))\n",
    "print(\"XGB normal\")\n",
    "# pr_log_xn = {}\n",
    "\n",
    "calc_sharp_ratio(g_dict[0.5]['ma'],Rb = 10**(-5))\n",
    "\n",
    "print(\"XGB reverse\")\n",
    "calc_sharp_ratio(gr_dict[0.8]['ma'],Rb = 10**(-5))\n",
    "\n",
    "\n",
    "    "
   ]
  },
  {
   "cell_type": "code",
   "execution_count": 183,
   "id": "a0e5e939-4010-4ed1-81ff-23b384a93dae",
   "metadata": {},
   "outputs": [
    {
     "data": {
      "text/html": [
       "<div>\n",
       "<style scoped>\n",
       "    .dataframe tbody tr th:only-of-type {\n",
       "        vertical-align: middle;\n",
       "    }\n",
       "\n",
       "    .dataframe tbody tr th {\n",
       "        vertical-align: top;\n",
       "    }\n",
       "\n",
       "    .dataframe thead th {\n",
       "        text-align: right;\n",
       "    }\n",
       "</style>\n",
       "<table border=\"1\" class=\"dataframe\">\n",
       "  <thead>\n",
       "    <tr style=\"text-align: right;\">\n",
       "      <th></th>\n",
       "      <th>ma</th>\n",
       "      <th>std</th>\n",
       "    </tr>\n",
       "  </thead>\n",
       "  <tbody>\n",
       "    <tr>\n",
       "      <th>2021-01-04</th>\n",
       "      <td>0.00000</td>\n",
       "      <td>0.000000</td>\n",
       "    </tr>\n",
       "    <tr>\n",
       "      <th>2021-01-05</th>\n",
       "      <td>-0.00024</td>\n",
       "      <td>0.000386</td>\n",
       "    </tr>\n",
       "    <tr>\n",
       "      <th>2021-01-06</th>\n",
       "      <td>0.00276</td>\n",
       "      <td>0.001353</td>\n",
       "    </tr>\n",
       "    <tr>\n",
       "      <th>2021-01-07</th>\n",
       "      <td>0.00728</td>\n",
       "      <td>0.006304</td>\n",
       "    </tr>\n",
       "    <tr>\n",
       "      <th>2021-01-08</th>\n",
       "      <td>0.00728</td>\n",
       "      <td>0.006304</td>\n",
       "    </tr>\n",
       "    <tr>\n",
       "      <th>...</th>\n",
       "      <td>...</td>\n",
       "      <td>...</td>\n",
       "    </tr>\n",
       "    <tr>\n",
       "      <th>2021-11-18</th>\n",
       "      <td>0.00112</td>\n",
       "      <td>0.026779</td>\n",
       "    </tr>\n",
       "    <tr>\n",
       "      <th>2021-11-19</th>\n",
       "      <td>0.00476</td>\n",
       "      <td>0.028435</td>\n",
       "    </tr>\n",
       "    <tr>\n",
       "      <th>2021-11-22</th>\n",
       "      <td>0.00476</td>\n",
       "      <td>0.028435</td>\n",
       "    </tr>\n",
       "    <tr>\n",
       "      <th>2021-11-24</th>\n",
       "      <td>-0.00512</td>\n",
       "      <td>0.027182</td>\n",
       "    </tr>\n",
       "    <tr>\n",
       "      <th>2021-11-25</th>\n",
       "      <td>-0.00512</td>\n",
       "      <td>0.027182</td>\n",
       "    </tr>\n",
       "  </tbody>\n",
       "</table>\n",
       "<p>220 rows × 2 columns</p>\n",
       "</div>"
      ],
      "text/plain": [
       "                 ma       std\n",
       "2021-01-04  0.00000  0.000000\n",
       "2021-01-05 -0.00024  0.000386\n",
       "2021-01-06  0.00276  0.001353\n",
       "2021-01-07  0.00728  0.006304\n",
       "2021-01-08  0.00728  0.006304\n",
       "...             ...       ...\n",
       "2021-11-18  0.00112  0.026779\n",
       "2021-11-19  0.00476  0.028435\n",
       "2021-11-22  0.00476  0.028435\n",
       "2021-11-24 -0.00512  0.027182\n",
       "2021-11-25 -0.00512  0.027182\n",
       "\n",
       "[220 rows x 2 columns]"
      ]
     },
     "execution_count": 183,
     "metadata": {},
     "output_type": "execute_result"
    }
   ],
   "source": [
    "gr"
   ]
  },
  {
   "cell_type": "code",
   "execution_count": 177,
   "id": "3e98abd1-4420-4113-a74f-b81b5b5136b2",
   "metadata": {},
   "outputs": [
    {
     "data": {
      "text/plain": [
       "day\n",
       "2021-01-04    0.0000\n",
       "2021-01-05    0.0000\n",
       "2021-01-06    0.0000\n",
       "2021-01-07    0.0000\n",
       "2021-01-08    0.0000\n",
       "               ...  \n",
       "2021-11-19    0.0552\n",
       "2021-11-22    0.0552\n",
       "2021-11-24    0.0440\n",
       "2021-11-25    0.0476\n",
       "2021-11-26    0.0000\n",
       "Name: eval_reward, Length: 221, dtype: float64"
      ]
     },
     "execution_count": 177,
     "metadata": {},
     "output_type": "execute_result"
    }
   ],
   "source": [
    "pr_log_t[pr_log_t.index.year==2021]['eval_reward']"
   ]
  },
  {
   "cell_type": "code",
   "execution_count": 175,
   "id": "6b8282e6-da17-4cfe-bb7c-8dee3cbeb24d",
   "metadata": {},
   "outputs": [
    {
     "name": "stdout",
     "output_type": "stream",
     "text": [
      "TOPIX 0.0808\n",
      "Technical 0.0\n",
      "XGB n 0.10035999999999998\n",
      "XGB r -0.005120000000000005\n"
     ]
    }
   ],
   "source": [
    "print('TOPIX',pr_log_tpx['reward'].iloc[-1])\n",
    "print('Technical',pr_log_t[pr_log_t.index.year==2021]['eval_reward'].iloc[-1])\n",
    "print('XGB n',g['ma'].iloc[-1])\n",
    "print('XGB r',gr['ma'].iloc[-1])"
   ]
  },
  {
   "cell_type": "code",
   "execution_count": 109,
   "id": "cf1a911d-3519-4517-a352-08c64c7da43a",
   "metadata": {
    "tags": []
   },
   "outputs": [
    {
     "name": "stdout",
     "output_type": "stream",
     "text": [
      "TOPIX\n",
      "2.5789081678853973\n",
      "Technical\n",
      "1.3037880618324278\n",
      "XGB normal\n",
      "alpha : 0.5\n",
      "2.3241408031612796\n",
      "alpha : 0.6\n",
      "1.3743254400660487\n",
      "alpha : 0.7\n",
      "2.357160490853699\n",
      "alpha : 0.8\n",
      "2.4089614655258718\n",
      "alpha : 0.9\n",
      "0.43501619091660687\n",
      "XGB reverse\n",
      "alpha : 0.5\n",
      "-0.28405026672611705\n",
      "alpha : 0.6\n",
      "1.2443584707636455\n",
      "alpha : 0.7\n",
      "-0.15767788174383232\n",
      "alpha : 0.8\n",
      "1.0712548199725844\n",
      "alpha : 0.9\n",
      "3.294251079077148\n"
     ]
    }
   ],
   "source": [
    "print(\"TOPIX\")\n",
    "calc_sharp_ratio(pr_log_tpx['reward'],Rb = 10**(-5))\n",
    "print(\"Technical\")\n",
    "calc_sharp_ratio(pr_log_t[pr_log_t.index.year==2021]['eval_reward'],Rb = 10**(-5))\n",
    "print(\"XGB normal\")\n",
    "# pr_log_xn = {}\n",
    "for alpha in [0.5,0.6,0.7,0.8,0.9]:\n",
    "    print(\"alpha :\",alpha)\n",
    "    pr_tmp = pr_log_xn[alpha]\n",
    "    calc_sharp_ratio(pr_tmp['eval_reward'],Rb = 10**(-5))\n",
    "  \n",
    "\n",
    "print(\"XGB reverse\")\n",
    "for alpha in [0.5,0.6,0.7,0.8,0.9]:\n",
    "    print(\"alpha :\",alpha)\n",
    "    pr_tmp = pr_log_xr[alpha]\n",
    "    calc_sharp_ratio(pr_tmp['eval_reward'],Rb = 10**(-5))\n",
    "    "
   ]
  },
  {
   "cell_type": "markdown",
   "id": "de36b181-d4d0-4ebf-94e7-0feea1059a6f",
   "metadata": {},
   "source": [
    "# Scaler"
   ]
  },
  {
   "cell_type": "code",
   "execution_count": 362,
   "id": "a2646f91-65e2-4a8f-aa4e-238067fe5dbb",
   "metadata": {},
   "outputs": [],
   "source": [
    "df_tpx = DataFramePreProcessing(path_tpx).load_df()"
   ]
  },
  {
   "cell_type": "code",
   "execution_count": 364,
   "id": "1ef22d4f-ce5b-492c-9e99-ad1234843d9e",
   "metadata": {},
   "outputs": [
    {
     "data": {
      "text/html": [
       "<div>\n",
       "<style scoped>\n",
       "    .dataframe tbody tr th:only-of-type {\n",
       "        vertical-align: middle;\n",
       "    }\n",
       "\n",
       "    .dataframe tbody tr th {\n",
       "        vertical-align: top;\n",
       "    }\n",
       "\n",
       "    .dataframe thead th {\n",
       "        text-align: right;\n",
       "    }\n",
       "</style>\n",
       "<table border=\"1\" class=\"dataframe\">\n",
       "  <thead>\n",
       "    <tr style=\"text-align: right;\">\n",
       "      <th></th>\n",
       "      <th>open</th>\n",
       "      <th>high</th>\n",
       "      <th>low</th>\n",
       "      <th>close</th>\n",
       "      <th>volume</th>\n",
       "    </tr>\n",
       "    <tr>\n",
       "      <th>day</th>\n",
       "      <th></th>\n",
       "      <th></th>\n",
       "      <th></th>\n",
       "      <th></th>\n",
       "      <th></th>\n",
       "    </tr>\n",
       "  </thead>\n",
       "  <tbody>\n",
       "    <tr>\n",
       "      <th>2011-06-23</th>\n",
       "      <td>849.0</td>\n",
       "      <td>855.0</td>\n",
       "      <td>848.0</td>\n",
       "      <td>851.0</td>\n",
       "      <td>1149460.0</td>\n",
       "    </tr>\n",
       "    <tr>\n",
       "      <th>2011-06-24</th>\n",
       "      <td>852.0</td>\n",
       "      <td>860.0</td>\n",
       "      <td>852.0</td>\n",
       "      <td>859.0</td>\n",
       "      <td>1527150.0</td>\n",
       "    </tr>\n",
       "    <tr>\n",
       "      <th>2011-06-27</th>\n",
       "      <td>857.0</td>\n",
       "      <td>857.0</td>\n",
       "      <td>849.0</td>\n",
       "      <td>852.0</td>\n",
       "      <td>6783400.0</td>\n",
       "    </tr>\n",
       "    <tr>\n",
       "      <th>2011-06-28</th>\n",
       "      <td>857.0</td>\n",
       "      <td>860.0</td>\n",
       "      <td>852.0</td>\n",
       "      <td>855.0</td>\n",
       "      <td>2429060.0</td>\n",
       "    </tr>\n",
       "    <tr>\n",
       "      <th>2011-06-29</th>\n",
       "      <td>866.0</td>\n",
       "      <td>869.0</td>\n",
       "      <td>863.0</td>\n",
       "      <td>868.0</td>\n",
       "      <td>1810540.0</td>\n",
       "    </tr>\n",
       "  </tbody>\n",
       "</table>\n",
       "</div>"
      ],
      "text/plain": [
       "             open   high    low  close     volume\n",
       "day                                              \n",
       "2011-06-23  849.0  855.0  848.0  851.0  1149460.0\n",
       "2011-06-24  852.0  860.0  852.0  859.0  1527150.0\n",
       "2011-06-27  857.0  857.0  849.0  852.0  6783400.0\n",
       "2011-06-28  857.0  860.0  852.0  855.0  2429060.0\n",
       "2011-06-29  866.0  869.0  863.0  868.0  1810540.0"
      ]
     },
     "execution_count": 364,
     "metadata": {},
     "output_type": "execute_result"
    }
   ],
   "source": [
    "df_tpx.head()"
   ]
  },
  {
   "cell_type": "code",
   "execution_count": 372,
   "id": "42a56375-ffd6-4d91-b723-dde249032eea",
   "metadata": {},
   "outputs": [],
   "source": [
    "scaler = StandardScaler() \n",
    "estimator = MLPRegressor(hidden_layer_sizes=(10, 10), max_iter=1)\n",
    "model = Pipeline([(\"scaler\", scaler), (\"estimator\", estimator)])\n",
    "\n",
    "states = df_tpx.values\n",
    "scaled = model.named_steps[\"scaler\"].fit(states).transform(states)\n"
   ]
  },
  {
   "cell_type": "code",
   "execution_count": 371,
   "id": "fc1f4cd3-985d-4d73-963d-c32c579b7673",
   "metadata": {},
   "outputs": [
    {
     "data": {
      "text/plain": [
       "array([[-1.62193254, -1.6225093 , -1.60770311, -1.61657607, -0.81489361],\n",
       "       [-1.61358142, -1.60862421, -1.59652576, -1.59429939, -0.64986528],\n",
       "       [-1.59966289, -1.61695526, -1.60490878, -1.61379149,  1.64680705],\n",
       "       ...,\n",
       "       [ 1.75748663,  1.73212831,  1.72594352,  1.69707982, -0.93513547],\n",
       "       [ 1.59324797,  1.57939232,  1.56387184,  1.56898892,  0.60278842],\n",
       "       [ 1.6990288 ,  1.71824322,  1.70917748,  1.73884859, -0.09529073]])"
      ]
     },
     "execution_count": 371,
     "metadata": {},
     "output_type": "execute_result"
    }
   ],
   "source": [
    "scaler.transform(states)"
   ]
  },
  {
   "cell_type": "code",
   "execution_count": 377,
   "id": "e428fa3e-cc1f-4554-a6c7-d62f7a60abb3",
   "metadata": {},
   "outputs": [],
   "source": [
    "a_ = np.array([[float(i) for i in range(3)] for j in range(2)])"
   ]
  },
  {
   "cell_type": "code",
   "execution_count": 378,
   "id": "f6266e4e-e550-4744-a300-15065924577d",
   "metadata": {},
   "outputs": [
    {
     "data": {
      "text/plain": [
       "array([[0., 1., 2.],\n",
       "       [0., 1., 2.]])"
      ]
     },
     "execution_count": 378,
     "metadata": {},
     "output_type": "execute_result"
    }
   ],
   "source": [
    "a_"
   ]
  },
  {
   "cell_type": "markdown",
   "id": "7e5e388c-5a99-4c1f-ad9a-c853fb14d541",
   "metadata": {},
   "source": [
    "これ縦で標準化してる"
   ]
  },
  {
   "cell_type": "code",
   "execution_count": 380,
   "id": "7690c6e2-c3dd-4105-9c2f-aa1a3bba5e9c",
   "metadata": {},
   "outputs": [
    {
     "data": {
      "text/plain": [
       "array([[0., 0., 0.],\n",
       "       [0., 0., 0.]])"
      ]
     },
     "execution_count": 380,
     "metadata": {},
     "output_type": "execute_result"
    }
   ],
   "source": [
    "# scaled = model.named_steps[\"scaler\"].fit(a_).transform(a_)\n",
    "scaled = scaler.transform(a_)\n",
    "scaled"
   ]
  },
  {
   "cell_type": "code",
   "execution_count": 46,
   "id": "2a5b13cb-d235-4da4-a921-6f7970fcf8a7",
   "metadata": {
    "tags": []
   },
   "outputs": [],
   "source": [
    "a_ = [1,2,3]\n",
    "a_ = np.array(a_)\n",
    "\n",
    "# scaled = scaler.transform(a_)\n",
    "# scaled"
   ]
  },
  {
   "cell_type": "code",
   "execution_count": 47,
   "id": "e0ae2f3a-8eb0-455c-8c21-817225564ff1",
   "metadata": {},
   "outputs": [
    {
     "data": {
      "text/plain": [
       "array([1, 2, 3])"
      ]
     },
     "execution_count": 47,
     "metadata": {},
     "output_type": "execute_result"
    }
   ],
   "source": [
    "a_"
   ]
  },
  {
   "cell_type": "code",
   "execution_count": 48,
   "id": "961c9d2a-3ea0-4bba-bdb4-493602961c36",
   "metadata": {},
   "outputs": [
    {
     "data": {
      "text/plain": [
       "array([-1.22474487,  0.        ,  1.22474487])"
      ]
     },
     "execution_count": 48,
     "metadata": {},
     "output_type": "execute_result"
    }
   ],
   "source": [
    "preprocessing.scale(a_,axis=0)\n",
    "# たて"
   ]
  },
  {
   "cell_type": "code",
   "execution_count": 50,
   "id": "bafcfb84-1fef-4e64-b0d0-94d3872fb6be",
   "metadata": {},
   "outputs": [
    {
     "data": {
      "text/plain": [
       "array([-1.22474487,  0.        ,  1.22474487])"
      ]
     },
     "execution_count": 50,
     "metadata": {},
     "output_type": "execute_result"
    }
   ],
   "source": [
    "preprocessing.scale(a_,axis=1)\n",
    "# ヨコ"
   ]
  },
  {
   "cell_type": "markdown",
   "id": "4734c3bd-2e6d-4c7f-ad6a-87d1a91a3eb6",
   "metadata": {},
   "source": [
    "# Grid search"
   ]
  },
  {
   "cell_type": "code",
   "execution_count": 7,
   "id": "2351dddc-5371-4a4e-b200-674e9304e0ae",
   "metadata": {},
   "outputs": [],
   "source": [
    "lx = LearnXGB()\n",
    "x_train,y_train,x_test,y_test = lx.make_xgb_data(path_tpx,path_daw,test_rate=0.80)\n"
   ]
  },
  {
   "cell_type": "code",
   "execution_count": 15,
   "id": "08b0be03-9bde-4a64-b621-96b1a76a7475",
   "metadata": {
    "tags": []
   },
   "outputs": [],
   "source": [
    "grid_search(x_train,y_train,x_test,y_test)"
   ]
  },
  {
   "cell_type": "markdown",
   "id": "af980aa9-876e-4f74-a8bb-5374ccef9b6b",
   "metadata": {},
   "source": [
    "# milestone"
   ]
  },
  {
   "cell_type": "markdown",
   "id": "fc12a541-cd13-4278-b91f-bf87604bc199",
   "metadata": {},
   "source": [
    "param1"
   ]
  },
  {
   "cell_type": "code",
   "execution_count": 13,
   "id": "c8d49f4e-2196-45c3-ad3d-e11fd8d135ef",
   "metadata": {},
   "outputs": [
    {
     "data": {
      "text/plain": [
       "{'eta': 0.10133010936006664,\n",
       " 'max_depth': 3,\n",
       " 'lambda': 0.7688766095080382,\n",
       " 'n_estimators': 4,\n",
       " 'reg_alpha': 0.5752333513767293,\n",
       " 'reg_lambda': 0.3639652652940705,\n",
       " 'importance_type': 'total_cover'}"
      ]
     },
     "execution_count": 13,
     "metadata": {},
     "output_type": "execute_result"
    }
   ],
   "source": [
    "{'eta': 0.10133010936006664, 'max_depth': 3, 'lambda': 0.7688766095080382, 'n_estimators': 4, 'reg_alpha': 0.5752333513767293, 'reg_lambda': 0.3639652652940705, 'importance_type': 'total_cover'}"
   ]
  },
  {
   "cell_type": "markdown",
   "id": "2d503982-b046-441f-ac9e-abe95fff2770",
   "metadata": {},
   "source": [
    "param2"
   ]
  },
  {
   "cell_type": "code",
   "execution_count": 14,
   "id": "4717e270-1b09-4d68-b976-64628645426f",
   "metadata": {},
   "outputs": [
    {
     "data": {
      "text/plain": [
       "{'eta': 0.09596830907961507,\n",
       " 'max_depth': 3,\n",
       " 'lambda': 0.7357580506094586,\n",
       " 'n_estimators': 3,\n",
       " 'reg_alpha': 0.6480353642599526,\n",
       " 'reg_lambda': 0.48699139703134453,\n",
       " 'importance_type': 'total_cover'}"
      ]
     },
     "execution_count": 14,
     "metadata": {},
     "output_type": "execute_result"
    }
   ],
   "source": [
    "{'eta': 0.09596830907961507, 'max_depth': 3, 'lambda': 0.7357580506094586, 'n_estimators': 3, 'reg_alpha': 0.6480353642599526, 'reg_lambda': 0.48699139703134453, 'importance_type': 'total_cover'}"
   ]
  },
  {
   "cell_type": "markdown",
   "id": "39ed2e88-c2ed-4355-aabf-7e238a6dd090",
   "metadata": {},
   "source": [
    "# Gridsearch の結果\n",
    "param2の feature importanceからparam2の方がdawp1以外の特徴が活用されているため, param2を採用"
   ]
  },
  {
   "cell_type": "code",
   "execution_count": null,
   "id": "5f5716d7-c503-4bba-b9f9-eecf1a9cdf44",
   "metadata": {},
   "outputs": [],
   "source": []
  }
 ],
 "metadata": {
  "kernelspec": {
   "display_name": "Python 3",
   "language": "python",
   "name": "python3"
  },
  "language_info": {
   "codemirror_mode": {
    "name": "ipython",
    "version": 3
   },
   "file_extension": ".py",
   "mimetype": "text/x-python",
   "name": "python",
   "nbconvert_exporter": "python",
   "pygments_lexer": "ipython3",
   "version": "3.9.6"
  },
  "toc-autonumbering": true
 },
 "nbformat": 4,
 "nbformat_minor": 5
}
