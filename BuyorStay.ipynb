{
 "cells": [
  {
   "cell_type": "markdown",
   "id": "7153253a-249d-4837-b3c0-a1338c215aca",
   "metadata": {},
   "source": [
    "# ONLY BUY or STAY"
   ]
  },
  {
   "cell_type": "markdown",
   "id": "a1bbedb4-399e-4c95-a9bd-f8653999ad1a",
   "metadata": {},
   "source": [
    "# import Library"
   ]
  },
  {
   "cell_type": "code",
   "execution_count": 1,
   "id": "fe8e0446-8dd4-4933-91fc-c0178688bb65",
   "metadata": {},
   "outputs": [
    {
     "name": "stdout",
     "output_type": "stream",
     "text": [
      "INFO:tensorflow:Enabling eager execution\n",
      "INFO:tensorflow:Enabling v2 tensorshape\n",
      "INFO:tensorflow:Enabling resource variables\n",
      "INFO:tensorflow:Enabling tensor equality\n",
      "INFO:tensorflow:Enabling control flow v2\n"
     ]
    }
   ],
   "source": [
    "import numpy as np\n",
    "import math\n",
    "import glob\n",
    "import matplotlib.pyplot as plt\n",
    "from enum import Enum\n",
    "import pandas as pd\n",
    "import time\n",
    "from collections import defaultdict\n",
    "from collections import namedtuple\n",
    "from sklearn.neural_network import MLPRegressor\n",
    "from sklearn.preprocessing import StandardScaler\n",
    "from sklearn.pipeline import Pipeline\n",
    "import os\n",
    "import io\n",
    "import re\n",
    "from collections import namedtuple\n",
    "from collections import deque\n",
    "import tensorflow as tf\n",
    "from tensorflow.python import keras as K\n",
    "from PIL import Image\n",
    "import matplotlib.pyplot as plt\n",
    "import random"
   ]
  },
  {
   "cell_type": "markdown",
   "id": "e437d188-f330-4465-b007-ead1db57172b",
   "metadata": {},
   "source": [
    "# Load DF"
   ]
  },
  {
   "cell_type": "code",
   "execution_count": 2,
   "id": "59004c49-aec9-4a0c-9a92-fc47a6b24f06",
   "metadata": {},
   "outputs": [],
   "source": [
    "class DataFramePreProcessing():\n",
    "\n",
    "    \n",
    "    def __init__(self, path_, is_daw=False):\n",
    "        self.path_ = path_\n",
    "        self.is_daw = is_daw\n",
    "\n",
    "        \n",
    "    def load_df(self):\n",
    "        if self.is_daw:\n",
    "            d='d'\n",
    "        else:\n",
    "            d=''\n",
    "        FILE = glob.glob(self.path_)\n",
    "        df = pd.read_csv(FILE[0])\n",
    "        df = df.rename(columns={df.columns[0]:'nan',df.columns[1]:'nan',df.columns[2]:'nan',\\\n",
    "                                    df.columns[3]:'day',df.columns[4]:'nan',df.columns[5]:d+'open',\\\n",
    "                                    df.columns[6]:d+'high',df.columns[7]:d+'low',df.columns[8]:d+'close',\\\n",
    "                                       df.columns[9]:d+'volume',})\n",
    "        df = df.drop('nan',axis=1)\n",
    "        df = df.drop(df.index[0])\n",
    "        df['day'] = pd.to_datetime(df['day'],format='%Y/%m/%d')\n",
    "        df.set_index('day',inplace=True)\n",
    "\n",
    "        return df.astype(float)"
   ]
  },
  {
   "cell_type": "markdown",
   "id": "72375ec8-f143-4b2b-b52e-8b001d39a053",
   "metadata": {},
   "source": [
    "# Experience class"
   ]
  },
  {
   "cell_type": "code",
   "execution_count": 3,
   "id": "97f126d2-7c01-4629-9ae0-c3d91c77f3fc",
   "metadata": {},
   "outputs": [],
   "source": [
    "Experience = namedtuple(\"Experience\", [\"s\",\"a\",\"r\",\"n_s\",\"d\"])"
   ]
  },
  {
   "cell_type": "markdown",
   "id": "5c64a5eb-e53b-4e2f-8e27-183bbd636d8a",
   "metadata": {},
   "source": [
    "# Action class"
   ]
  },
  {
   "cell_type": "code",
   "execution_count": 12,
   "id": "c18c51df-edea-474a-89e2-26450be631a2",
   "metadata": {},
   "outputs": [],
   "source": [
    "class Action(Enum):\n",
    "    BUY  = 0\n",
    "    STAY = 1"
   ]
  },
  {
   "cell_type": "markdown",
   "id": "ec93e248-1b24-40d8-baa6-654faf53d736",
   "metadata": {},
   "source": [
    "# Environment class    "
   ]
  },
  {
   "cell_type": "code",
   "execution_count": 35,
   "id": "39036064-9215-4c70-ab6a-a7684f1a35bb",
   "metadata": {
    "tags": []
   },
   "outputs": [],
   "source": [
    "class Environment():\n",
    "    \n",
    "    \n",
    "    def __init__(self, x_train, price_chart):\n",
    "        self.x_train = x_train # state list\n",
    "        self.time = 0 # x_trainのindex\n",
    "        self.price_chart = price_chart\n",
    "        \n",
    "        \n",
    "    def reset(self):\n",
    "        self.time=0\n",
    "        return self.x_train.iloc[self.time].tolist()\n",
    "        \n",
    "    \n",
    "    def actions(self):\n",
    "        return [Action.BUY, Action.STAY]\n",
    "    \n",
    "    \n",
    "    \n",
    "    def state(self):\n",
    "        return self.x_train.iloc[self.time].tolist()\n",
    "  \n",
    "            \n",
    "    def reward_func(self, action):\n",
    "        reward=0\n",
    "        done = False\n",
    "\n",
    "        if self.time >= len(self.price_chart)-2: \n",
    "            done = True\n",
    "   \n",
    "        if action==Action.BUY:\n",
    "            reward=self.price_chart['close'].iloc[self.time+1]-self.price_chart['open'].iloc[self.time+1]\n",
    "\n",
    "        elif action==Action.STAY:\n",
    "            reward=0\n",
    "\n",
    "            \n",
    "        return reward, done\n",
    "            \n",
    "    \n",
    "    \n",
    "    def step(self, action):\n",
    "        reward, done = self.reward_func(action)\n",
    "        self.time += 1\n",
    "        next_state = self.state()\n",
    "        \n",
    "    \n",
    "        return next_state, reward, done\n",
    "        \n",
    "        \n",
    "        \n",
    "    \n",
    "    "
   ]
  },
  {
   "cell_type": "markdown",
   "id": "f11cbe4c-6c1a-4911-90e9-a50e789329a2",
   "metadata": {},
   "source": [
    "# Agent class"
   ]
  },
  {
   "cell_type": "code",
   "execution_count": 36,
   "id": "698e1b4e-04ff-4069-9c72-f71c7d49d7a7",
   "metadata": {},
   "outputs": [],
   "source": [
    "class FNAgent():\n",
    "    \n",
    "    \n",
    "    def __init__(self, epsilon, actions):\n",
    "        self.epsilon = epsilon\n",
    "        self.actions = actions\n",
    "        self.model = None\n",
    "        self.estimate_probs = False\n",
    "        self.initialized = False\n",
    "        \n",
    "        \n",
    "    def save(self, model_path):\n",
    "        self.model.save(model_path, overwrite=True, include_optimizer=False)\n",
    "        \n",
    "        \n",
    "    def policy(self, s):# 買ってたら戦略が変わる\n",
    "\n",
    "        if np.random.random() < self.epsilon or not self.initialized:\n",
    "            return np.random.randint(len(self.actions))\n",
    "        else:\n",
    "            estimates = self.estimate(s)\n",
    "            if self.estimate_probs:\n",
    "                return np.random.choice(self.actions,size=1, p=estimates)[0]\n",
    "            else:\n",
    "                return np.argmax(estimates)\n",
    "        \n",
    "    @classmethod\n",
    "    def load(cls, env, model_path, epsilon=0.0001):\n",
    "        actions = list(range(len(Action)))\n",
    "        agent = cls(epsilon, actions)\n",
    "        agent.model = K.models.load_model(model_path)\n",
    "        agent.initialized = True\n",
    "        return agent\n",
    "    \n",
    "    \n",
    "    def initialize(self, experiences):\n",
    "        pass\n",
    "        \n",
    "        \n",
    "    def estimate(self, s):\n",
    "        pass\n",
    "        \n",
    "        \n",
    "    def update(self, experiences, gamma):\n",
    "        pass\n",
    "        \n",
    "        \n",
    "    def play(self, env, episode_count=10):\n",
    "        actions = env.actions()\n",
    "        \n",
    "        for e in range(episode_count):\n",
    "            print(\"==================\")\n",
    "            print(\"episode :\",e)\n",
    "            s = env.reset()\n",
    "            done = False\n",
    "            total_reward = 0\n",
    "            reward_log = []\n",
    "            \n",
    "            is_start = False\n",
    "            is_end = False\n",
    "           \n",
    "                \n",
    "            \n",
    "\n",
    "            while not done:\n",
    "                a = self.policy(s)\n",
    "                action = actions[a]\n",
    "                n_state, reward, done = env.step(action)\n",
    "                total_reward += reward\n",
    "                s = n_state\n",
    "                reward_log.append(total_reward)\n",
    "                \n",
    "            else:\n",
    "                \n",
    "                print(\"Get reward {}.\".format(total_reward))\n",
    "                plt.plot(reward_log)\n",
    "                plt.show()"
   ]
  },
  {
   "cell_type": "markdown",
   "id": "c56df5ad-8878-4c1a-8362-4e3443c88f32",
   "metadata": {},
   "source": [
    "# Trainer class"
   ]
  },
  {
   "cell_type": "code",
   "execution_count": 37,
   "id": "1f11b541-3bf7-456b-9815-f864278422c1",
   "metadata": {},
   "outputs": [],
   "source": [
    "class Trainer():\n",
    "\n",
    "    \n",
    "    def __init__(self, buffer_size=1024, batch_size=32,gamma=0.9):\n",
    "        self.buffer_size = buffer_size\n",
    "        self.batch_size = batch_size\n",
    "        self.gamma = gamma\n",
    "        self.experiences = deque(maxlen=buffer_size)\n",
    "        self.training = False\n",
    "        self.training_count = 0\n",
    "        \n",
    "\n",
    "    def train_loop(self, env, agent, episode=200, initial_count=-1):\n",
    "        self.experiences = deque(maxlen=self.buffer_size)\n",
    "        self.training = False\n",
    "        self.training_count = 0\n",
    "        actions = env.actions()\n",
    "        reward_log = []\n",
    "        \n",
    "        for i in range(episode):\n",
    "            s = env.reset()\n",
    "            done = False\n",
    "            step_count = 0\n",
    "            self.episode_begin(i, agent)\n",
    "            total_rewards = 0\n",
    "            \n",
    "            if i%10==0:\n",
    "                print(\"----------------------\")\n",
    "                print(\"episode :\",i)\n",
    "            \n",
    "            while not done:\n",
    "                \n",
    "\n",
    "                a = agent.policy(s)\n",
    "                action = actions[a]\n",
    "                n_state, reward, done = env.step(action)\n",
    "                e = Experience(s, a, reward, n_state, done)\n",
    "                total_rewards += reward\n",
    "                self.experiences.append(e)\n",
    "                \n",
    "                \n",
    "                if not self.training and len(self.experiences) == self.buffer_size:\n",
    "                    self.begin_train(i, agent)\n",
    "                    self.training = True\n",
    "                \n",
    "                # step -> update if training==True\n",
    "                self.step(i, step_count, agent, e)\n",
    "\n",
    "                s = n_state\n",
    "                step_count += 1\n",
    "            else:\n",
    "#                 self.episode_end(i, step_count, agent)\n",
    "                \n",
    "                reward_log.append(total_rewards)\n",
    "                if not self.training and initial_count > 0 and i >= initial_count:\n",
    "                    self.begin_train(i, agent)\n",
    "                    self.training = True\n",
    "\n",
    "\n",
    "                if self.training:\n",
    "                    self.training_count += 1\n",
    "                    \n",
    "            \n",
    "        plt.plot(reward_log)\n",
    "        plt.show()\n",
    "        \n",
    "\n",
    "    \n",
    "    def episode_begin(self, episode, agent):\n",
    "        pass\n",
    "\n",
    "    \n",
    "    def begin_train(self, episode, agent):\n",
    "        pass\n",
    "\n",
    "    \n",
    "    def step(self, episode, step_count, agent, experience):\n",
    "        pass\n",
    "\n",
    "    \n",
    "    def episode_end(self, episode, step_count, agent):\n",
    "        pass\n",
    "\n",
    "    \n",
    "    def is_event(self, count, interval):\n",
    "        return True if count != 0 and count % interval == 0 else False\n",
    "\n",
    "    \n",
    "    def get_recent(self, count):\n",
    "        recent = range(len(self.experiences) - count, len(self.experiences))\n",
    "        return [self.experiences[i] for i in recent]\n",
    "\n"
   ]
  },
  {
   "cell_type": "markdown",
   "id": "14f5c428-2a5b-4e93-b651-1136498a95fa",
   "metadata": {},
   "source": [
    "# Value function Agent class"
   ]
  },
  {
   "cell_type": "code",
   "execution_count": 38,
   "id": "44a94b51-0e5e-49d2-8ef9-ec8c5ed3c00e",
   "metadata": {
    "tags": []
   },
   "outputs": [],
   "source": [
    "class ValueFunctionAgent(FNAgent):\n",
    "\n",
    "    \n",
    "    def save(self, model_path):\n",
    "        joblib.dump(self.model, model_path)\n",
    "\n",
    "    \n",
    "    @classmethod\n",
    "    def load(cls, env, model_path, epsilon=0.0001):\n",
    "        actions = list(range(len(Action)))\n",
    "        agent = cls(epsilon, actions)\n",
    "        agent.model = joblib.load(model_path)\n",
    "        agent.initialized = True\n",
    "        return agent\n",
    "\n",
    "    \n",
    "    def initialize(self, experiences):\n",
    "        scaler = StandardScaler() # 特徴料(列)ごとに標準化してる\n",
    "        estimator = MLPRegressor(hidden_layer_sizes=(10, 10), max_iter=1)\n",
    "        self.model = Pipeline([(\"scaler\", scaler), (\"estimator\", estimator)])\n",
    "\n",
    "        states = np.vstack([e.s for e in experiences])\n",
    "        self.model.named_steps[\"scaler\"].fit(states)\n",
    "\n",
    "        # Avoid the predict before fit.\n",
    "        self.update([experiences[0]], gamma=0)\n",
    "        self.initialized = True\n",
    "        print(\"Done initialization. From now, begin training!\")\n",
    "\n",
    "    \n",
    "    def estimate(self, s):\n",
    "        s = np.array(s).reshape(1,-1)\n",
    "        estimated = self.model.predict(s)[0]\n",
    "        return estimated\n",
    "\n",
    "    \n",
    "    def _predict(self, states):\n",
    "        if self.initialized:\n",
    "            predicteds = self.model.predict(states)\n",
    "        else:\n",
    "            size = len(self.actions) * len(states)\n",
    "            predicteds = np.random.uniform(size=size)\n",
    "            predicteds = predicteds.reshape((-1, len(self.actions)))\n",
    "        return predicteds\n",
    "\n",
    "    \n",
    "    def update(self, experiences, gamma):\n",
    "        states = np.vstack([e.s for e in experiences])\n",
    "        n_states = np.vstack([e.n_s for e in experiences])\n",
    "\n",
    "        estimateds = self._predict(states)\n",
    "        future = self._predict(n_states)\n",
    "\n",
    "\n",
    "        for i, e in enumerate(experiences):\n",
    "            reward = e.r\n",
    "            if not e.d:\n",
    "                reward += gamma * np.max(future[i])\n",
    "            estimateds[i][e.a] = reward\n",
    "\n",
    "        estimateds = np.array(estimateds)\n",
    "        states = self.model.named_steps[\"scaler\"].transform(states)\n",
    "        self.model.named_steps[\"estimator\"].partial_fit(states, estimateds)\n"
   ]
  },
  {
   "cell_type": "markdown",
   "id": "66af6300-bcea-4ce3-92bf-f3ceeadb1890",
   "metadata": {},
   "source": [
    "# Value function Trainer"
   ]
  },
  {
   "cell_type": "code",
   "execution_count": 58,
   "id": "81a96464-bfb7-4997-bd7c-f743b944d69b",
   "metadata": {
    "tags": []
   },
   "outputs": [],
   "source": [
    "class ValueFunctionTrainer(Trainer):\n",
    "\n",
    "    \n",
    "    def train(self, env, episode_count=250, epsilon=0.1, initial_count=-1):\n",
    "        actions = list(range(len(Action)))\n",
    "        agent = ValueFunctionAgent(epsilon, actions)\n",
    "        self.train_loop(env, agent, episode_count, initial_count)\n",
    "        return agent\n",
    "\n",
    "   \n",
    "    def begin_train(self, episode, agent):\n",
    "        agent.initialize(self.experiences)\n",
    "\n",
    "    \n",
    "    def step(self, episode, step_count, agent, experience):\n",
    "        if self.training:\n",
    "            batch = random.sample(self.experiences, self.batch_size)\n",
    "            agent.update(batch, self.gamma)\n",
    "      \n",
    "    \n",
    "    def episode_end(self, episode, step_count, agent):\n",
    "#         rewards = [e.r for e in self.get_recent(step_count)]\n",
    "        pass\n",
    "        "
   ]
  },
  {
   "cell_type": "markdown",
   "id": "d4d77440-c0fc-4094-b174-370f6e1f0204",
   "metadata": {},
   "source": [
    "# main"
   ]
  },
  {
   "cell_type": "code",
   "execution_count": 59,
   "id": "72f91aaa-b4d1-4271-aef3-55fc14a99153",
   "metadata": {
    "tags": []
   },
   "outputs": [
    {
     "name": "stdout",
     "output_type": "stream",
     "text": [
      "----------------------\n",
      "episode : 0\n",
      "Done initialization. From now, begin training!\n",
      "----------------------\n",
      "episode : 10\n",
      "----------------------\n",
      "episode : 20\n",
      "----------------------\n",
      "episode : 30\n",
      "----------------------\n",
      "episode : 40\n",
      "----------------------\n",
      "episode : 50\n",
      "----------------------\n",
      "episode : 60\n",
      "----------------------\n",
      "episode : 70\n",
      "----------------------\n",
      "episode : 80\n",
      "----------------------\n",
      "episode : 90\n",
      "----------------------\n",
      "episode : 100\n",
      "----------------------\n",
      "episode : 110\n",
      "----------------------\n",
      "episode : 120\n",
      "----------------------\n",
      "episode : 130\n",
      "----------------------\n",
      "episode : 140\n",
      "----------------------\n",
      "episode : 150\n",
      "----------------------\n",
      "episode : 160\n",
      "----------------------\n",
      "episode : 170\n",
      "----------------------\n",
      "episode : 180\n",
      "----------------------\n",
      "episode : 190\n",
      "----------------------\n",
      "episode : 200\n",
      "----------------------\n",
      "episode : 210\n",
      "----------------------\n",
      "episode : 220\n",
      "----------------------\n",
      "episode : 230\n",
      "----------------------\n",
      "episode : 240\n"
     ]
    },
    {
     "data": {
      "image/png": "[encoded data removed]",
      "text/plain": [
       "<Figure size 432x288 with 1 Axes>"
      ]
     },
     "metadata": {
      "needs_background": "light"
     },
     "output_type": "display_data"
    },
    {
     "name": "stdout",
     "output_type": "stream",
     "text": [
      "==================\n",
      "episode : 0\n",
      "Get reward -35.0.\n"
     ]
    },
    {
     "data": {
      "image/png": "[encoded data removed]",
      "text/plain": [
       "<Figure size 432x288 with 1 Axes>"
      ]
     },
     "metadata": {
      "needs_background": "light"
     },
     "output_type": "display_data"
    },
    {
     "name": "stdout",
     "output_type": "stream",
     "text": [
      "==================\n",
      "episode : 1\n",
      "Get reward -33.0.\n"
     ]
    },
    {
     "data": {
      "image/png": "[encoded data removed]",
      "text/plain": [
       "<Figure size 432x288 with 1 Axes>"
      ]
     },
     "metadata": {
      "needs_background": "light"
     },
     "output_type": "display_data"
    },
    {
     "name": "stdout",
     "output_type": "stream",
     "text": [
      "==================\n",
      "episode : 2\n",
      "Get reward -33.0.\n"
     ]
    },
    {
     "data": {
      "image/png": "[encoded data removed]",
      "text/plain": [
       "<Figure size 432x288 with 1 Axes>"
      ]
     },
     "metadata": {
      "needs_background": "light"
     },
     "output_type": "display_data"
    },
    {
     "name": "stdout",
     "output_type": "stream",
     "text": [
      "==================\n",
      "episode : 3\n",
      "Get reward -57.0.\n"
     ]
    },
    {
     "data": {
      "image/png": "[encoded data removed]",
      "text/plain": [
       "<Figure size 432x288 with 1 Axes>"
      ]
     },
     "metadata": {
      "needs_background": "light"
     },
     "output_type": "display_data"
    },
    {
     "name": "stdout",
     "output_type": "stream",
     "text": [
      "==================\n",
      "episode : 4\n",
      "Get reward -54.0.\n"
     ]
    },
    {
     "data": {
      "image/png": "[encoded data removed]",
      "text/plain": [
       "<Figure size 432x288 with 1 Axes>"
      ]
     },
     "metadata": {
      "needs_background": "light"
     },
     "output_type": "display_data"
    },
    {
     "name": "stdout",
     "output_type": "stream",
     "text": [
      "==================\n",
      "episode : 5\n",
      "Get reward -33.0.\n"
     ]
    },
    {
     "data": {
      "image/png": "[encoded data removed]",
      "text/plain": [
       "<Figure size 432x288 with 1 Axes>"
      ]
     },
     "metadata": {
      "needs_background": "light"
     },
     "output_type": "display_data"
    },
    {
     "name": "stdout",
     "output_type": "stream",
     "text": [
      "==================\n",
      "episode : 6\n",
      "Get reward -55.0.\n"
     ]
    },
    {
     "data": {
      "image/png": "[encoded data removed]",
      "text/plain": [
       "<Figure size 432x288 with 1 Axes>"
      ]
     },
     "metadata": {
      "needs_background": "light"
     },
     "output_type": "display_data"
    },
    {
     "name": "stdout",
     "output_type": "stream",
     "text": [
      "==================\n",
      "episode : 7\n",
      "Get reward -55.0.\n"
     ]
    },
    {
     "data": {
      "image/png": "[encoded data removed]",
      "text/plain": [
       "<Figure size 432x288 with 1 Axes>"
      ]
     },
     "metadata": {
      "needs_background": "light"
     },
     "output_type": "display_data"
    },
    {
     "name": "stdout",
     "output_type": "stream",
     "text": [
      "==================\n",
      "episode : 8\n",
      "Get reward -55.0.\n"
     ]
    },
    {
     "data": {
      "image/png": "[encoded data removed]",
      "text/plain": [
       "<Figure size 432x288 with 1 Axes>"
      ]
     },
     "metadata": {
      "needs_background": "light"
     },
     "output_type": "display_data"
    },
    {
     "name": "stdout",
     "output_type": "stream",
     "text": [
      "==================\n",
      "episode : 9\n",
      "Get reward -38.0.\n"
     ]
    },
    {
     "data": {
      "image/png": "[encoded data removed]",
      "text/plain": [
       "<Figure size 432x288 with 1 Axes>"
      ]
     },
     "metadata": {
      "needs_background": "light"
     },
     "output_type": "display_data"
    }
   ],
   "source": [
    "test_rate = 0.9\n",
    "n_divide = 10\n",
    "\n",
    "x_train, price_chart = make_x_train(path_tpx)\n",
    "\n",
    "a_year = len(x_train)//n_divide\n",
    "\n",
    "start1 = (n_divide-1)*a_year\n",
    "end1  = start1 + int(a_year*test_rate)\n",
    "start2 = end1\n",
    "\n",
    "\n",
    "s_train = x_train.iloc[start1 : end1]\n",
    "s_test = x_train.iloc[start2:]\n",
    "price_train = price_chart.iloc[start1 : end1]\n",
    "price_test  = price_chart.iloc[start2:]\n",
    "\n",
    "\n",
    "env_train = Environment(s_train,price_train)\n",
    "env_test = Environment(s_test,price_test)\n",
    "trainer = ValueFunctionTrainer()\n",
    "trained = trainer.train(env_train)   \n",
    "trained.play(env_test)"
   ]
  },
  {
   "cell_type": "code",
   "execution_count": 408,
   "id": "a74b3a0e-281a-432f-a022-622fe3fdeb0c",
   "metadata": {},
   "outputs": [
    {
     "data": {
      "text/plain": [
       "Timestamp('2020-11-19 00:00:00')"
      ]
     },
     "execution_count": 408,
     "metadata": {},
     "output_type": "execute_result"
    }
   ],
   "source": [
    "env_train.price_chart.index[100]"
   ]
  },
  {
   "cell_type": "markdown",
   "id": "955d2413-edd8-430c-bd05-bb00bd9441ea",
   "metadata": {},
   "source": [
    "# make x_train price_chart"
   ]
  },
  {
   "cell_type": "code",
   "execution_count": 49,
   "id": "0b798242-2613-4e10-b78e-0b944108145d",
   "metadata": {},
   "outputs": [],
   "source": [
    "path_tpx = '/Users/rince/Desktop/StockPriceData/Stock_index/TOPIX_10years.csv'\n",
    "\n",
    "\n",
    "def make_x_train(path_):\n",
    "    \n",
    "    \n",
    "    path_daw = '/Users/rince/Desktop/StockPriceData/Stock_index/DAW_10years.csv'\n",
    "\n",
    "\n",
    "    df_tpx  = DataFramePreProcessing(path_).load_df()\n",
    "    df_daw = DataFramePreProcessing(path_daw, is_daw=True).load_df()\n",
    "    daw_p = df_daw['dclose'].pct_change()\n",
    "    tpx_p = df_tpx['close'].pct_change()\n",
    "    df_con = pd.concat([daw_p,tpx_p],axis = 1,join='inner').astype(float)\n",
    "    \n",
    "    df_tmp = df_con.rename(columns={'close': 'pclose'})\n",
    "    df_tmp = pd.concat([df_tmp,df_tpx.loc[:,['open','close']]],axis = 1,join='inner').astype(float)\n",
    "    \n",
    "    x_train = df_tmp.loc[:,['dclose','pclose']].iloc[1:]\n",
    "    price_chart = df_tmp.loc[:,['open','close']].iloc[1:]\n",
    "    return x_train, price_chart\n"
   ]
  },
  {
   "cell_type": "code",
   "execution_count": 26,
   "id": "3ea9950e-cdb7-4491-a469-7398b22a115f",
   "metadata": {},
   "outputs": [],
   "source": [
    "x_t, p_c = make_x_train(path_tpx)"
   ]
  },
  {
   "cell_type": "code",
   "execution_count": 27,
   "id": "45aed7ec-bc51-4a17-9dab-13ee5d5073cc",
   "metadata": {},
   "outputs": [
    {
     "data": {
      "text/html": [
       "<div>\n",
       "<style scoped>\n",
       "    .dataframe tbody tr th:only-of-type {\n",
       "        vertical-align: middle;\n",
       "    }\n",
       "\n",
       "    .dataframe tbody tr th {\n",
       "        vertical-align: top;\n",
       "    }\n",
       "\n",
       "    .dataframe thead th {\n",
       "        text-align: right;\n",
       "    }\n",
       "</style>\n",
       "<table border=\"1\" class=\"dataframe\">\n",
       "  <thead>\n",
       "    <tr style=\"text-align: right;\">\n",
       "      <th></th>\n",
       "      <th>open</th>\n",
       "      <th>close</th>\n",
       "    </tr>\n",
       "    <tr>\n",
       "      <th>day</th>\n",
       "      <th></th>\n",
       "      <th></th>\n",
       "    </tr>\n",
       "  </thead>\n",
       "  <tbody>\n",
       "    <tr>\n",
       "      <th>2011-06-24</th>\n",
       "      <td>852.0</td>\n",
       "      <td>859.0</td>\n",
       "    </tr>\n",
       "    <tr>\n",
       "      <th>2011-06-27</th>\n",
       "      <td>857.0</td>\n",
       "      <td>852.0</td>\n",
       "    </tr>\n",
       "    <tr>\n",
       "      <th>2011-06-28</th>\n",
       "      <td>857.0</td>\n",
       "      <td>855.0</td>\n",
       "    </tr>\n",
       "    <tr>\n",
       "      <th>2011-06-29</th>\n",
       "      <td>866.0</td>\n",
       "      <td>868.0</td>\n",
       "    </tr>\n",
       "    <tr>\n",
       "      <th>2011-06-30</th>\n",
       "      <td>874.0</td>\n",
       "      <td>874.0</td>\n",
       "    </tr>\n",
       "    <tr>\n",
       "      <th>...</th>\n",
       "      <td>...</td>\n",
       "      <td>...</td>\n",
       "    </tr>\n",
       "    <tr>\n",
       "      <th>2021-06-16</th>\n",
       "      <td>2069.0</td>\n",
       "      <td>2075.0</td>\n",
       "    </tr>\n",
       "    <tr>\n",
       "      <th>2021-06-17</th>\n",
       "      <td>2071.0</td>\n",
       "      <td>2063.0</td>\n",
       "    </tr>\n",
       "    <tr>\n",
       "      <th>2021-06-18</th>\n",
       "      <td>2063.0</td>\n",
       "      <td>2041.0</td>\n",
       "    </tr>\n",
       "    <tr>\n",
       "      <th>2021-06-21</th>\n",
       "      <td>2004.0</td>\n",
       "      <td>1995.0</td>\n",
       "    </tr>\n",
       "    <tr>\n",
       "      <th>2021-06-22</th>\n",
       "      <td>2042.0</td>\n",
       "      <td>2056.0</td>\n",
       "    </tr>\n",
       "  </tbody>\n",
       "</table>\n",
       "<p>2446 rows × 2 columns</p>\n",
       "</div>"
      ],
      "text/plain": [
       "              open   close\n",
       "day                       \n",
       "2011-06-24   852.0   859.0\n",
       "2011-06-27   857.0   852.0\n",
       "2011-06-28   857.0   855.0\n",
       "2011-06-29   866.0   868.0\n",
       "2011-06-30   874.0   874.0\n",
       "...            ...     ...\n",
       "2021-06-16  2069.0  2075.0\n",
       "2021-06-17  2071.0  2063.0\n",
       "2021-06-18  2063.0  2041.0\n",
       "2021-06-21  2004.0  1995.0\n",
       "2021-06-22  2042.0  2056.0\n",
       "\n",
       "[2446 rows x 2 columns]"
      ]
     },
     "execution_count": 27,
     "metadata": {},
     "output_type": "execute_result"
    }
   ],
   "source": [
    "p_c"
   ]
  },
  {
   "cell_type": "code",
   "execution_count": 101,
   "id": "044b3f87-6ca4-46a5-9481-6108b5dc0245",
   "metadata": {},
   "outputs": [],
   "source": [
    "scaler = StandardScaler()\n",
    "estimator = MLPRegressor(hidden_layer_sizes=(10, 10), max_iter=1)\n",
    "model = Pipeline([(\"scaler\", scaler), (\"estimator\", estimator)])\n",
    "\n",
    "# states = np.vstack([e.s for e in experiences])\n",
    "# self.model.named_steps[\"scaler\"].fit(states)"
   ]
  },
  {
   "cell_type": "code",
   "execution_count": 119,
   "id": "ee5e89a5-e563-4faf-9548-81b14933b46b",
   "metadata": {},
   "outputs": [],
   "source": [
    "tmp = df_con.drop('dvolume',axis=1)\n",
    "tmp\n",
    "sample_data = tmp.iloc[-10:]"
   ]
  },
  {
   "cell_type": "code",
   "execution_count": 120,
   "id": "ebfc8eed-fd7a-4674-a13c-b987471d52bc",
   "metadata": {},
   "outputs": [
    {
     "data": {
      "text/plain": [
       "StandardScaler()"
      ]
     },
     "execution_count": 120,
     "metadata": {},
     "output_type": "execute_result"
    }
   ],
   "source": [
    "sample_data = np.array(sample_data.values.tolist())\n",
    "scaler.fit(sample_data)\n"
   ]
  },
  {
   "cell_type": "code",
   "execution_count": 118,
   "id": "1979d9c1-9ef1-4195-af49-971c8f8b8b6c",
   "metadata": {},
   "outputs": [
    {
     "data": {
      "text/plain": [
       "(10, 9)"
      ]
     },
     "execution_count": 118,
     "metadata": {},
     "output_type": "execute_result"
    }
   ],
   "source": [
    "sample_data"
   ]
  },
  {
   "cell_type": "code",
   "execution_count": 122,
   "id": "8a6be4ca-4052-442a-9212-b48cd05cb94f",
   "metadata": {},
   "outputs": [
    {
     "data": {
      "text/plain": [
       "array([-1.87423419e-03, -1.87423419e-03, -1.87423419e-03, -1.87423419e-03,\n",
       "       -6.67637461e-04, -4.12383761e-04, -8.44857532e-04, -1.58285951e-04,\n",
       "        6.55099676e-01])"
      ]
     },
     "execution_count": 122,
     "metadata": {},
     "output_type": "execute_result"
    }
   ],
   "source": [
    "scaler.mean_"
   ]
  },
  {
   "cell_type": "code",
   "execution_count": null,
   "id": "94a082b2-3d74-416a-8752-f3f3c3528ba9",
   "metadata": {},
   "outputs": [],
   "source": []
  }
 ],
 "metadata": {
  "kernelspec": {
   "display_name": "Python 3",
   "language": "python",
   "name": "python3"
  },
  "language_info": {
   "codemirror_mode": {
    "name": "ipython",
    "version": 3
   },
   "file_extension": ".py",
   "mimetype": "text/x-python",
   "name": "python",
   "nbconvert_exporter": "python",
   "pygments_lexer": "ipython3",
   "version": "3.9.6"
  }
 },
 "nbformat": 4,
 "nbformat_minor": 5
}
